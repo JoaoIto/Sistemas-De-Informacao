{
 "cells": [
  {
   "cell_type": "markdown",
   "id": "f57b66ba-4ebc-4505-a676-7150dfbe480d",
   "metadata": {},
   "source": [
    "## ÁRVORE DE DECISÃO PARA ANÁLISE DE EMPRÉSTIMO BANCÁRIO"
   ]
  },
  {
   "cell_type": "markdown",
   "id": "e14af4cc-9acd-4d66-aed7-bfcaa15dc6a2",
   "metadata": {},
   "source": [
    "### Bibliotecas"
   ]
  },
  {
   "cell_type": "code",
   "execution_count": null,
   "id": "28694475-b9a0-43aa-b171-6a51beab16d1",
   "metadata": {},
   "outputs": [],
   "source": [
    "import pandas as pd\n",
    "from sklearn.tree import DecisionTreeClassifier, plot_tree\n",
    "from sklearn.model_selection import train_test_split\n",
    "import matplotlib.pyplot as plt\n",
    "from sklearn.metrics import accuracy_score"
   ]
  },
  {
   "cell_type": "markdown",
   "id": "dab67a55-1c33-4bdd-a2c7-ab2a4ee92919",
   "metadata": {},
   "source": [
    "### Criando o DataFrame"
   ]
  },
  {
   "cell_type": "code",
   "execution_count": null,
   "id": "49a90591-e784-40e5-8bc4-bf647a8ad3a3",
   "metadata": {},
   "outputs": [],
   "source": [
    "df = pd.read_csv(r\"dados_emp_bancario.csv\")"
   ]
  },
  {
   "cell_type": "code",
   "execution_count": null,
   "id": "c049b847-2792-4d45-b06f-9c9fa66ff054",
   "metadata": {
    "scrolled": true
   },
   "outputs": [],
   "source": [
    "print(len(df))"
   ]
  },
  {
   "cell_type": "code",
   "execution_count": null,
   "id": "ab6bff75-36ab-4b28-b5b1-3bc711b23bb9",
   "metadata": {},
   "outputs": [],
   "source": [
    "df.head()"
   ]
  },
  {
   "cell_type": "markdown",
   "id": "55473c0e-ec3b-4b45-83cc-5294da922ee3",
   "metadata": {},
   "source": [
    "### Transformação"
   ]
  },
  {
   "cell_type": "code",
   "execution_count": null,
   "id": "c2fd5ed4-b5b4-4e21-af65-ddcbe8e6c028",
   "metadata": {},
   "outputs": [],
   "source": [
    "# Codificar variáveis categóricas em valores numéricos\n",
    "df['PossuiDividas'] = pd.factorize(df['PossuiDividas'])[0]  # 'não'=0, 'sim'=1\n",
    "df['Aprovado'] = pd.factorize(df['Aprovado'])[0]            # 'não'=0, 'sim'=1"
   ]
  },
  {
   "cell_type": "code",
   "execution_count": null,
   "id": "93e94412-21cc-40e1-8859-7c8de5e2c92f",
   "metadata": {},
   "outputs": [],
   "source": [
    "df"
   ]
  },
  {
   "cell_type": "code",
   "execution_count": null,
   "id": "324faac0-0f29-43e8-8052-bfd5d4c86138",
   "metadata": {},
   "outputs": [],
   "source": [
    " print(dict(enumerate(df['PossuiDividas'])))"
   ]
  },
  {
   "cell_type": "markdown",
   "id": "b588062e-7e83-46ba-8af1-b3a2a57dabb6",
   "metadata": {},
   "source": [
    "### Separando atributos da classe de predição"
   ]
  },
  {
   "cell_type": "code",
   "execution_count": null,
   "id": "814701e5-4b21-403d-9bec-3bb3884f2de1",
   "metadata": {},
   "outputs": [],
   "source": [
    "# Atributos e alvo\n",
    "# Cria o conjunto de atributos (ou variáveis independentes), chamado X\n",
    "# Ele pega todas as colunas do DataFrame df, exceto a coluna 'Aprovado'\n",
    "X = df.drop(columns=['Aprovado'])\n",
    "# Cria a variável alvo (ou rótulo de classe) chamada y\n",
    "# Ela contém apenas os valores da coluna 'Aprovado', ou seja, as respostas corretas que o modelo vai tentar aprender.\n",
    "y = df['Aprovado']"
   ]
  },
  {
   "cell_type": "code",
   "execution_count": null,
   "id": "3ff71125-7782-43d1-904a-31bd2616353e",
   "metadata": {},
   "outputs": [],
   "source": [
    "y"
   ]
  },
  {
   "cell_type": "markdown",
   "id": "6c522d05-2c07-42e7-b8eb-8edf490fa769",
   "metadata": {},
   "source": [
    "### Treinando o modelo"
   ]
  },
  {
   "cell_type": "code",
   "execution_count": null,
   "id": "c9796119-fb00-44d3-b57a-0c4770e96534",
   "metadata": {},
   "outputs": [],
   "source": [
    "X_train, X_test, y_train, y_test = train_test_split(X, y, test_size=0.2, random_state=42)"
   ]
  },
  {
   "cell_type": "code",
   "execution_count": null,
   "id": "f95a7274-3459-4f80-a30c-35663cf602b8",
   "metadata": {},
   "outputs": [],
   "source": [
    "modelo = DecisionTreeClassifier(criterion='entropy', random_state=42)\n",
    "modelo.fit(X_train, y_train)"
   ]
  },
  {
   "cell_type": "markdown",
   "id": "680da298-907b-47f9-bc2e-9e8d4ff0fc7d",
   "metadata": {},
   "source": [
    "### Acurácia do modelo"
   ]
  },
  {
   "cell_type": "code",
   "execution_count": null,
   "id": "e879b078-42b5-4b55-ac14-678acfb198a9",
   "metadata": {},
   "outputs": [],
   "source": [
    "y_pred = modelo.predict(X_test)\n",
    "print(\"\\nAcurácia do modelo nos dados de teste:\", accuracy_score(y_test, y_pred))"
   ]
  },
  {
   "cell_type": "markdown",
   "id": "8c01ac47-2377-4d62-bdbe-c9dd0804c9a0",
   "metadata": {},
   "source": [
    "### Visualizando a árvore"
   ]
  },
  {
   "cell_type": "code",
   "execution_count": null,
   "id": "e0abef62-fc07-4b1b-8aad-9ffc27d7fa39",
   "metadata": {},
   "outputs": [],
   "source": [
    "plt.figure(figsize=(12, 6))\n",
    "plot_tree(modelo, feature_names=X.columns, class_names=['não', 'sim'], filled=True, rounded=True)\n",
    "plt.title(\"Árvore de Decisão - Empréstimo Bancário\")\n",
    "plt.show()"
   ]
  },
  {
   "cell_type": "markdown",
   "id": "ac1c595b-4481-4fc9-a9be-20ba23667117",
   "metadata": {},
   "source": [
    "### Testando o modelo"
   ]
  },
  {
   "cell_type": "code",
   "execution_count": null,
   "id": "6f6085bb-ad1c-4c9c-a048-976eb39da86f",
   "metadata": {},
   "outputs": [],
   "source": [
    "print(\"\\nInsira os dados do cliente para prever a aprovação do empréstimo:\")\n",
    "\n",
    "idade = int(input(\"Idade: \"))\n",
    "renda = float(input(\"Renda Mensal (R$): \"))\n",
    "score = int(input(\"Score de Crédito: \"))\n",
    "tempo_emprego = int(input(\"Tempo de Emprego (anos): \"))\n",
    "valor_emprestimo = float(input(\"Valor do Empréstimo (R$): \"))\n",
    "dividas = input(\"Possui dívidas? (sim/não): \").strip().lower()\n",
    "dividas_cod = 1 if dividas == 'sim' else 0"
   ]
  },
  {
   "cell_type": "markdown",
   "id": "c6b947f9-9539-4147-86d9-a44b58aa2fa1",
   "metadata": {},
   "source": [
    "### Criando a entrada para o modelo"
   ]
  },
  {
   "cell_type": "code",
   "execution_count": null,
   "id": "1b8cb44a-a8ff-4853-88f5-bff7e60e4f93",
   "metadata": {},
   "outputs": [],
   "source": [
    "entrada = pd.DataFrame([{\n",
    "    'Idade': idade,\n",
    "    'Renda': renda,\n",
    "    'Score': score,\n",
    "    'TempoEmprego': tempo_emprego,\n",
    "    'ValorEmprestimo': valor_emprestimo,\n",
    "    'PossuiDividas': dividas_cod\n",
    "}])\n",
    "entrada"
   ]
  },
  {
   "cell_type": "code",
   "execution_count": null,
   "id": "46d9a6fa-d04e-46ee-a41e-abbc8ebc1dc2",
   "metadata": {},
   "outputs": [],
   "source": [
    "resultado = modelo.predict(entrada)[0]\n",
    "print(\"\\n✅ Resultado da previsão:\")\n",
    "print(\"Empréstimo Aprovado!\" if resultado == 1 else \"Empréstimo NÃO Aprovado.\")"
   ]
  }
 ],
 "metadata": {
  "kernelspec": {
   "display_name": "Python 3 (ipykernel)",
   "language": "python",
   "name": "python3"
  },
  "language_info": {
   "codemirror_mode": {
    "name": "ipython",
    "version": 3
   },
   "file_extension": ".py",
   "mimetype": "text/x-python",
   "name": "python",
   "nbconvert_exporter": "python",
   "pygments_lexer": "ipython3",
   "version": "3.13.5"
  }
 },
 "nbformat": 4,
 "nbformat_minor": 5
}
