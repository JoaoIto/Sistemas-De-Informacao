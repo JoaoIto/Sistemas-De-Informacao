{
 "cells": [
  {
   "cell_type": "markdown",
   "id": "c3a66878",
   "metadata": {},
   "source": [
    "<div align=\"center\">\n",
    "\n",
    "<h1></h1>  \n",
    "<h1>UNITINS</h1>  \n",
    "<h2>Mineração de Dados</h2>  \n",
    "\n",
    "---\n",
    "\n",
    "<h2> Exercícios: Transformação de Dados para Mineração</h2>  \n",
    "\n",
    "</div>\n",
    "\n"
   ]
  },
  {
   "cell_type": "code",
   "execution_count": null,
   "id": "ca5f74ff",
   "metadata": {},
   "outputs": [],
   "source": [
    "import pandas as pd\n",
    "import numpy as np\n",
    "import matplotlib.pyplot as plt\n",
    "import seaborn as sns\n",
    "\n",
    "np.random.seed(42)\n",
    "df = pd.DataFrame({\n",
    "    'idade': np.random.normal(35, 10, 200).astype(int),\n",
    "    'salario': np.random.lognormal(mean=8, sigma=0.4, size=200),\n",
    "    'cidade': np.random.choice(['São Paulo','Rio de Janeiro','Belo Horizonte','Curitiba'], 200),\n",
    "    'cargo': np.random.choice(['Analista','Gestor','Estagiário','Cientista de Dados'], 200)\n",
    "})\n",
    "df.head()"
   ]
  },
  {
   "cell_type": "markdown",
   "id": "711cbba9",
   "metadata": {},
   "source": [
    "## Exemplos de Gráficos\n",
    "Serão apresentados exemplos de: **histograma, boxplot, gráfico de barras, dispersão e heatmap de correlação**.\n",
    "Após cada seção, haverá um exercício."
   ]
  },
  {
   "cell_type": "markdown",
   "id": "72acea6e",
   "metadata": {},
   "source": [
    "### Histograma\n",
    "Mostra a **distribuição de uma variável numérica**.\n",
    "- Ajuda a identificar assimetrias e outliers."
   ]
  },
  {
   "cell_type": "markdown",
   "id": "43246630",
   "metadata": {},
   "source": [
    "✏️ **Exercício 1**: Faça um histograma para analisar a distribuição da coluna `salario`."
   ]
  },
  {
   "cell_type": "markdown",
   "id": "d98b6201",
   "metadata": {},
   "source": [
    "### Boxplot\n",
    "Mostra **mediana, quartis e outliers** de uma variável numérica.\n",
    "- Bom para comparar entre categorias."
   ]
  },
  {
   "cell_type": "markdown",
   "id": "9d4b81cc",
   "metadata": {},
   "source": [
    "✏️ **Exercício 2**: Crie um boxplot para comparar a distribuição de `idade` entre as diferentes `cidades`."
   ]
  },
  {
   "cell_type": "markdown",
   "id": "001aa6f4",
   "metadata": {},
   "source": [
    "### Gráfico de Barras\n",
    "Compara categorias em termos de frequência.\n",
    "- Bom para identificar a categoria mais comum."
   ]
  },
  {
   "cell_type": "markdown",
   "id": "f9829554",
   "metadata": {},
   "source": [
    "✏️ **Exercício 3**: Faça um gráfico de barras mostrando a frequência dos valores de `cargo`."
   ]
  },
  {
   "cell_type": "markdown",
   "id": "c7b1aca6",
   "metadata": {},
   "source": [
    "### Gráfico de Dispersão\n",
    "Mostra a relação entre duas variáveis numéricas.\n",
    "- Bom para identificar correlação ou outliers."
   ]
  },
  {
   "cell_type": "markdown",
   "id": "5855b4fd",
   "metadata": {},
   "source": [
    "✏️ **Exercício 4**: Crie um gráfico de dispersão comparando `salario` e `idade`, mas colorindo os pontos por `cargo`."
   ]
  },
  {
   "cell_type": "markdown",
   "id": "06c2f8b1",
   "metadata": {},
   "source": [
    "### Heatmap de Correlação\n",
    "Mostra como variáveis numéricas se relacionam linearmente.\n",
    "- Correlação próxima de +1 indica relação positiva forte.\n",
    "- Correlação próxima de -1 indica relação negativa forte.\n",
    "- Correlação próxima de 0 indica ausência de relação linear."
   ]
  },
  {
   "cell_type": "markdown",
   "id": "de277aa4",
   "metadata": {},
   "source": [
    "✏️ **Exercício 5**: Interprete o heatmap acima. Qual a relação entre `idade` e `salario`? Existe correlação forte?"
   ]
  }
 ],
 "metadata": {
  "kernelspec": {
   "display_name": "Python 3 (ipykernel)",
   "language": "python",
   "name": "python3"
  },
  "language_info": {
   "codemirror_mode": {
    "name": "ipython",
    "version": 3
   },
   "file_extension": ".py",
   "mimetype": "text/x-python",
   "name": "python",
   "nbconvert_exporter": "python",
   "pygments_lexer": "ipython3",
   "version": "3.13.5"
  }
 },
 "nbformat": 4,
 "nbformat_minor": 5
}
