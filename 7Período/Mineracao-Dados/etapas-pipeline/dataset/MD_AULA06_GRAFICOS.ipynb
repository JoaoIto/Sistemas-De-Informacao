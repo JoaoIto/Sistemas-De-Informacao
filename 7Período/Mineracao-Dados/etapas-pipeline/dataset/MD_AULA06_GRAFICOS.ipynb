{
 "cells": [
  {
   "cell_type": "markdown",
   "id": "110e4734",
   "metadata": {},
   "source": [
    "# Visualização para Pré-processamento e Transformação de Dados\n",
    "### Usando Matplotlib e Seaborn\n",
    "\n",
    "Neste notebook vamos explorar como gráficos auxiliam na identificação de problemas e aplicação de técnicas de pré-processamento e transformação de dados."
   ]
  },
  {
   "cell_type": "code",
   "execution_count": 1,
   "id": "0e0b3972-04bc-4d98-9fb2-655c7477bec0",
   "metadata": {},
   "outputs": [],
   "source": [
    "#!pip install matplotlib\n",
    "#!pip install seaborn"
   ]
  },
  {
   "cell_type": "code",
   "execution_count": null,
   "id": "56c99d26",
   "metadata": {},
   "outputs": [],
   "source": [
    "import pandas as pd      # Manipulação de dados\n",
    "import numpy as np       # Números e arrays\n",
    "import matplotlib.pyplot as plt  # Gráficos\n",
    "import seaborn as sns    # Visualizações estatísticas\n",
    "\n",
    "sns.set(style='whitegrid')  # Define estilo dos gráficos\n",
    "\n",
    "# Gerando dataset de exemplo\n",
    "np.random.seed(42)  # Reprodutibilidade\n",
    "\n",
    "df = pd.DataFrame({\n",
    "    'idade': np.random.randint(15, 70, 100),         # 100 idades entre 15 e 69\n",
    "    'salario': np.random.randint(1200, 12000, 100),  # 100 salários entre 1200 e 11999\n",
    "    'genero': np.random.choice(['Masculino', 'Feminino'], 100)  # 100 gêneros aleatórios\n",
    "})\n",
    "\n",
    "df.head()  # Mostra as 5 primeiras linhas\n"
   ]
  },
  {
   "cell_type": "markdown",
   "id": "8c526070",
   "metadata": {},
   "source": [
    "## 1. Identificação de Outliers\n",
    "Os **outliers** são valores extremos que podem distorcer análises e modelos. O **boxplot** é uma ótima ferramenta para identificá-los visualmente.\n",
    "- Retângulo (caixa): representa o intervalo entre o 1º quartil (Q1, 25%) e o 3º quartil (Q3, 75%).\n",
    "- Linha dentro da caixa: é a mediana (Q2, 50%), ou seja, o valor central da distribuição.\n",
    "- “Bigodes” (linhas horizontais): mostram os limites inferior e superior, geralmente calculados como:"
   ]
  },
  {
   "cell_type": "code",
   "execution_count": null,
   "id": "2a68b54f",
   "metadata": {},
   "outputs": [],
   "source": [
    "plt.figure(figsize=(6,4))        # Define tamanho do gráfico\n",
    "sns.boxplot(x=df['salario'])     # Cria boxplot da coluna salario\n",
    "plt.title('Boxplot de Salário')  # Define título\n",
    "plt.show()                       # Exibe o gráfico\n"
   ]
  },
  {
   "cell_type": "markdown",
   "id": "82a20581-b5cd-43dd-8ae8-9c785ab1fcd9",
   "metadata": {},
   "source": [
    "- O salário mínimo está em torno de ~1200 e o máximo perto de 12.000.\n",
    "- A mediana (linha no meio da caixa) está por volta de 6.500–7.000, mostrando que metade dos funcionários ganha até esse valor.\n",
    "- A caixa (entre Q1 e Q3) cobre aproximadamente 4.000 a 9.000, ou seja, 50% das pessoas recebem dentro desse intervalo.\n",
    "- Não há outliers visíveis no gráfico — todos os salários estão dentro dos bigodes."
   ]
  },
  {
   "cell_type": "markdown",
   "id": "a8aec4b6",
   "metadata": {},
   "source": [
    "## 2. Distribuição dos Dados\n",
    "Histogramas e curvas de densidade permitem verificar a **distribuição** dos dados. Isso auxilia na decisão sobre **normalização, padronização ou transformações matemáticas**."
   ]
  },
  {
   "cell_type": "code",
   "execution_count": null,
   "id": "d581804b",
   "metadata": {},
   "outputs": [],
   "source": [
    "plt.figure(figsize=(6,4))                  # Define tamanho do gráfico\n",
    "sns.histplot(df['idade'], kde=True, bins=10)  # Histograma da idade + curva KDE\n",
    "plt.title('Distribuição de Idade')         # Define título\n",
    "plt.show()                                 # Exibe o gráfico\n"
   ]
  },
  {
   "cell_type": "markdown",
   "id": "8bbee962-90b7-4a17-8724-42bfa80d1567",
   "metadata": {},
   "source": [
    "- O gráfico mostra que a idade dos indivíduos está bem distribuída em várias faixas, com maior concentração em torno dos 20, 35 e 65 anos.\n",
    "- A curva de densidade ajuda a visualizar que não existe apenas um pico central, mas sim diferentes grupos etários relevantes."
   ]
  },
  {
   "cell_type": "markdown",
   "id": "d4fcb7d2",
   "metadata": {},
   "source": [
    "## 3. Relação entre Variáveis\n",
    "Gráficos de dispersão e matrizes de correlação ajudam a identificar relações entre atributos, redundâncias e a necessidade de redução de dimensionalidade."
   ]
  },
  {
   "cell_type": "code",
   "execution_count": null,
   "id": "695e8a43",
   "metadata": {},
   "outputs": [],
   "source": [
    "plt.figure(figsize=(6,4))                               # Define tamanho do gráfico\n",
    "sns.scatterplot(x='idade', y='salario', hue='genero', data=df)  # Dispersão: idade x salário, cor por gênero\n",
    "plt.title('Idade vs Salário por Gênero')                # Define título\n",
    "plt.show()                                              # Exibe o gráfico\n"
   ]
  },
  {
   "cell_type": "markdown",
   "id": "d17e3092-8258-4eb6-9385-9afc7577991c",
   "metadata": {},
   "source": [
    "- Não há uma tendência clara de crescimento do salário com a idade → pessoas jovens e mais velhas aparecem tanto com salários altos quanto baixos.\n",
    "- A distribuição é heterogênea para ambos os gêneros.\n",
    "- Há sobreposição entre masculino e feminino, sem diferença visual muito acentuada."
   ]
  },
  {
   "cell_type": "code",
   "execution_count": null,
   "id": "3fbe0232-651f-417c-a565-46d878aaf550",
   "metadata": {},
   "outputs": [],
   "source": [
    "plt.figure(figsize=(6,4))                              # Define tamanho do gráfico\n",
    "sns.heatmap(df.corr(numeric_only=True), annot=True, cmap='coolwarm')  # Heatmap da correlação entre variáveis numéricas\n",
    "plt.title('Matriz de Correlação')                      # Define título\n",
    "plt.show()                                             # Exibe o gráfico\n"
   ]
  },
  {
   "cell_type": "markdown",
   "id": "c150bf36-08d4-4fda-8e5e-5f0e7f352658",
   "metadata": {},
   "source": [
    "Valores variam de -1 a +1:\n",
    "- +1 → correlação perfeita positiva.\n",
    "- -1 → correlação perfeita negativa.\n",
    "- 0 → sem correlação.\n",
    "  \n",
    "Neste caso:\n",
    "- Correlação idade–salário ≈ 0.14 → fraca e positiva, ou seja, salários tendem a crescer levemente com a idade, mas a relação é muito fraca.\n",
    "- As diagonais são sempre 1, pois um atributo é 100% correlacionado consigo mesmo."
   ]
  },
  {
   "cell_type": "markdown",
   "id": "97dd53bf",
   "metadata": {},
   "source": [
    "## 4. Análise de Categorias\n",
    "Os **countplots** permitem verificar se existe **desbalanceamento de classes**, importante em tarefas de classificação."
   ]
  },
  {
   "cell_type": "code",
   "execution_count": null,
   "id": "77949db1",
   "metadata": {},
   "outputs": [],
   "source": [
    "plt.figure(figsize=(6,4))             # Define tamanho do gráfico\n",
    "sns.countplot(x='genero', data=df)    # Cria gráfico de barras com contagem por gênero\n",
    "plt.title('Distribuição por Gênero')  # Define título\n",
    "plt.show()                            # Exibe o gráfico\n"
   ]
  },
  {
   "cell_type": "markdown",
   "id": "e62e6403-e412-464a-a1d4-56bd699365bb",
   "metadata": {},
   "source": [
    "Esse gráfico mostra que a base de dados possui uma distribuição equilibrada entre homens e mulheres, o que é positivo para análises de aprendizado de máquina, pois não há desbalanceamento de classes significativo."
   ]
  },
  {
   "cell_type": "markdown",
   "id": "622af7ef",
   "metadata": {},
   "source": [
    "## Conclusão\n",
    "- A visualização é fundamental no **pré-processamento**.\n",
    "- Gráficos permitem detectar **outliers, distribuições irregulares, correlações e desbalanceamentos**.\n",
    "- Essa análise inicial orienta quais **técnicas de transformação** aplicar."
   ]
  },
  {
   "cell_type": "markdown",
   "id": "7b25ee23-3702-4e95-9e30-b70cf22daec6",
   "metadata": {},
   "source": [
    "# Quando usar cada tipo de gráfico\n",
    "\n",
    "- **Histograma** → Quando você deseja analisar a **distribuição** de uma variável numérica (ex.: idades, salários). Ajuda a identificar assimetrias e outliers.\n",
    "- **Boxplot** → Quando você quer resumir estatísticas de uma variável e **detectar outliers** rapidamente, ou comparar grupos (ex.: salário por cargo).\n",
    "- **Gráfico de Barras** → Melhor para **comparar categorias** em termos de contagem ou soma (ex.: quantos registros existem por cidade).\n",
    "- **Dispersão (Scatter Plot)** → Quando precisa avaliar a **relação entre duas variáveis numéricas** (ex.: idade x salário). Bom para visualizar correlação.\n",
    "- **Heatmap de Correlação** → Usado para ter uma **visão geral das relações lineares** entre várias variáveis numéricas, identificando quais se influenciam.\n",
    "\n",
    "Em resumo:\n",
    "- Use **histograma** e **boxplot** para entender uma variável.\n",
    "- Use **barras** para categorias.\n",
    "- Use **scatter plot** para duas variáveis numéricas.\n",
    "- Use **heatmap** para visão geral de muitas variáveis numéricas ao mesmo tempo."
   ]
  },
  {
   "cell_type": "code",
   "execution_count": null,
   "id": "ea62a05f-c664-494d-be35-6e5112a5c587",
   "metadata": {},
   "outputs": [],
   "source": []
  }
 ],
 "metadata": {
  "kernelspec": {
   "display_name": "Python 3 (ipykernel)",
   "language": "python",
   "name": "python3"
  },
  "language_info": {
   "codemirror_mode": {
    "name": "ipython",
    "version": 3
   },
   "file_extension": ".py",
   "mimetype": "text/x-python",
   "name": "python",
   "nbconvert_exporter": "python",
   "pygments_lexer": "ipython3",
   "version": "3.13.5"
  }
 },
 "nbformat": 4,
 "nbformat_minor": 5
}
