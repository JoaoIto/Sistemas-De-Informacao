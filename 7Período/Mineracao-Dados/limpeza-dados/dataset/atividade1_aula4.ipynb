{
  "cells": [
    {
      "cell_type": "markdown",
      "id": "b5e1dd75-90f3-4451-98ad-f3341578b106",
      "metadata": {
        "id": "b5e1dd75-90f3-4451-98ad-f3341578b106"
      },
      "source": [
        "# <center> SISTEMAS DE INFORMAÇÃO</center>\n",
        "### <center> MINERAÇÃO DE DADOS</center>\n",
        "### <center> ATIVIDADE - AULA 04 </center>"
      ]
    },
    {
      "cell_type": "code",
      "execution_count": 2,
      "id": "1596c5a9-93a7-46f8-aa0d-48bb7886022e",
      "metadata": {
        "colab": {
          "base_uri": "https://localhost:8080/",
          "height": 35
        },
        "id": "1596c5a9-93a7-46f8-aa0d-48bb7886022e",
        "outputId": "17c2c19e-0e80-4d4a-e5d8-b2edd1ba6b64"
      },
      "outputs": [
        {
          "output_type": "execute_result",
          "data": {
            "text/plain": [
              "'/content'"
            ],
            "application/vnd.google.colaboratory.intrinsic+json": {
              "type": "string"
            }
          },
          "metadata": {},
          "execution_count": 2
        }
      ],
      "source": [
        "# (Opcional) Montar Drive automaticamente se existir Colab\n",
        "try:\n",
        "    from google.colab import drive\n",
        "    drive.mount('/content/drive')\n",
        "    OUTPUT_DIR = \"/content/drive/MyDrive/MD_AULA04\"\n",
        "    import os; os.makedirs(OUTPUT_DIR, exist_ok=True)\n",
        "except Exception:\n",
        "    OUTPUT_DIR = \"/content\"\n",
        "OUTPUT_DIR"
      ]
    },
    {
      "cell_type": "markdown",
      "id": "46601ea9",
      "metadata": {
        "id": "46601ea9"
      },
      "source": [
        "# Gerador de Dataset Sintético **sujo**\n",
        "\n",
        "Este notebook cria datasets sintéticos com **inconsistências aleatórias** a cada execução:\n",
        "- valores ausentes\n",
        "- grafia errada (ruído textual)\n",
        "- idades inconsistentes\n",
        "- datas inconsistentes\n",
        "- situações que exigem **imputação numérica** e **imputação categórica**\n",
        "- registros duplicados\n",
        "\n",
        "No final, salva um CSV com **timestamp** (para não sobrescrever) e imprime um **relatório** das sujeiras inseridas."
      ]
    },
    {
      "cell_type": "markdown",
      "id": "478fb308-a467-4f0e-98b5-fc66a5e2ef27",
      "metadata": {
        "id": "478fb308-a467-4f0e-98b5-fc66a5e2ef27"
      },
      "source": [
        "## Atividade\n",
        "A atividade dessa aula consiste em gerar um um dataset \"sujo\", ou seja, com inconsistências e em seguida realizar o seu pré-processamento\n",
        "Vocês deverão enviar o notebook com os passos executados para realizar o limpeza do dataset\n",
        "O notebook deverá ter uma célula com um texto explicativo antes da execução de alguma tarefa"
      ]
    },
    {
      "cell_type": "markdown",
      "id": "4ecf9262",
      "metadata": {
        "id": "4ecf9262"
      },
      "source": [
        "## (Opcional) Montar o Google Drive\n",
        "Execute esta célula se quiser salvar a saída direto no seu Drive. Se não precisar, **pule** e a saída ficará no diretório atual (`/content`)."
      ]
    },
    {
      "cell_type": "code",
      "execution_count": 3,
      "id": "0053b9d5",
      "metadata": {
        "id": "0053b9d5",
        "colab": {
          "base_uri": "https://localhost:8080/"
        },
        "outputId": "d67449cc-3eb1-4d37-9695-ba83392922cf"
      },
      "outputs": [
        {
          "output_type": "stream",
          "name": "stdout",
          "text": [
            "Salvar arquivos em: /content\n"
          ]
        }
      ],
      "source": [
        "USE_DRIVE = False  # Altere para True para salvar no Drive\n",
        "OUTPUT_DIR = \"/content\"  # Pasta padrão quando USE_DRIVE=False\n",
        "\n",
        "if USE_DRIVE:\n",
        "    from google.colab import drive\n",
        "    drive.mount('/content/drive')\n",
        "    # Ajuste o caminho abaixo para sua pasta no Drive (ex.: 'MyDrive/datasets')\n",
        "    OUTPUT_DIR = \"/content/drive/MyDrive/datasets\"\n",
        "\n",
        "import os\n",
        "os.makedirs(OUTPUT_DIR, exist_ok=True)\n",
        "print(f\"Salvar arquivos em: {OUTPUT_DIR}\")"
      ]
    },
    {
      "cell_type": "markdown",
      "id": "b98f6298",
      "metadata": {
        "id": "b98f6298"
      },
      "source": [
        "## Parâmetros do gerador\n",
        "- Defina `SEMENTE` como um inteiro para reprodutibilidade.\n",
        "- Deixe `SEMENTE=None` para aleatoriedade total a cada execução."
      ]
    },
    {
      "cell_type": "code",
      "execution_count": 4,
      "id": "67ee6105",
      "metadata": {
        "id": "67ee6105",
        "colab": {
          "base_uri": "https://localhost:8080/"
        },
        "outputId": "c9f31f25-2648-4734-9b22-c73c56c66e42"
      },
      "outputs": [
        {
          "output_type": "stream",
          "name": "stdout",
          "text": [
            "N linhas = 10000 | Semente = None\n"
          ]
        }
      ],
      "source": [
        "import numpy as np, random\n",
        "\n",
        "N = 10_000          # número de linhas\n",
        "SEMENTE = None      # use um inteiro (ex.: 42) para resultados reprodutíveis\n",
        "\n",
        "if SEMENTE is not None:\n",
        "    np.random.seed(SEMENTE)\n",
        "    random.seed(SEMENTE)\n",
        "\n",
        "print(f\"N linhas = {N} | Semente = {SEMENTE}\")"
      ]
    },
    {
      "cell_type": "markdown",
      "id": "fa4cd346",
      "metadata": {
        "id": "fa4cd346"
      },
      "source": [
        "## Gerar dataset e injetar inconsistências\n",
        "A execução cria o DataFrame base (limpo) e então aplica **sujeiras** em porções aleatórias."
      ]
    },
    {
      "cell_type": "code",
      "execution_count": 5,
      "id": "c0759303",
      "metadata": {
        "id": "c0759303",
        "colab": {
          "base_uri": "https://localhost:8080/"
        },
        "outputId": "23d86b67-cce3-4185-d1bf-c975dd2e4cf0"
      },
      "outputs": [
        {
          "output_type": "execute_result",
          "data": {
            "text/plain": [
              "{'linhas_geradas_total': 10239,\n",
              " 'nulos_por_coluna': {'nome': 0,\n",
              "  'idade': 496,\n",
              "  'cidade': 784,\n",
              "  'data_admissao': 37,\n",
              "  'salario': 792,\n",
              "  'estado_civil': 165,\n",
              "  'cargo': 301,\n",
              "  'telefone': 9650},\n",
              " 'duplicatas_totais': 239,\n",
              " 'na_inseridos_est': {'idade': 501,\n",
              "  'salario': 744,\n",
              "  'cidade': 789,\n",
              "  'estado_civil': 184,\n",
              "  'cargo': 306,\n",
              "  'telefone': 9426},\n",
              " 'ruido_texto_cols': ['nome', 'cidade', 'estado_civil', 'cargo'],\n",
              " 'idades_inconsistentes': 133,\n",
              " 'datas_inconsistentes': 121,\n",
              " 'salarios_ruido': 187,\n",
              " 'salarios_negativos': 76,\n",
              " 'duplicatas_inseridas': 239}"
            ]
          },
          "metadata": {},
          "execution_count": 5
        }
      ],
      "source": [
        "import pandas as pd\n",
        "from datetime import datetime, timedelta\n",
        "\n",
        "# Catálogos simples\n",
        "NOMES = [\n",
        "    \"Ana\",\"Bruno\",\"Carla\",\"Diego\",\"Eva\",\"Fabio\",\"Gabriela\",\"Heitor\",\"Iris\",\"Joao\",\n",
        "    \"Karina\",\"Lucas\",\"Mariana\",\"Nicolas\",\"Olivia\",\"Paulo\",\"Rita\",\"Saulo\",\"Tania\",\"Ulisses\",\n",
        "    \"Vera\",\"Will\",\"Xavier\",\"Yasmin\",\"Zeca\"\n",
        "]\n",
        "SOBRENOMES = [\"Silva\",\"Santos\",\"Oliveira\",\"Souza\",\"Lima\",\"Pereira\",\"Almeida\",\"Ferreira\",\"Rodrigues\",\"Carvalho\"]\n",
        "CIDADES = [\"sao paulo\",\"rio de janeiro\",\"belo horizonte\",\"curitiba\",\"recife\",\"salvador\",\"manaus\",\"fortaleza\",\"goiania\",\"belem\"]\n",
        "CARGOS = [\"analista\",\"cientista de dados\",\"engenheiro de dados\",\"desenvolvedor\",\"estagiario\",\"gestor\"]\n",
        "ESTADOS_CIVIS = [\"solteiro\",\"casado\",\"divorciado\",\"viuvo\"]\n",
        "\n",
        "def nome_completo():\n",
        "    return f\"{random.choice(NOMES)} {random.choice(SOBRENOMES)}\"\n",
        "\n",
        "def data_aleatoria(inicio=datetime(2015,1,1), fim=datetime(2025,8,1)):\n",
        "    delta = fim - inicio\n",
        "    return inicio + timedelta(days=random.randint(0, delta.days))\n",
        "\n",
        "# 1) Base limpa\n",
        "idades = np.clip(np.random.normal(35, 10, N).round().astype(int), 14, 90)\n",
        "salarios = np.random.lognormal(mean=8.0, sigma=0.45, size=N).round(2)\n",
        "datas = [data_aleatoria().strftime(\"%d/%m/%Y\") for _ in range(N)]\n",
        "telefones = [f\"(11) 9{random.randint(1000,9999)}-{random.randint(1000,9999)}\" for _ in range(N)]\n",
        "\n",
        "df = pd.DataFrame({\n",
        "    'nome': [nome_completo() for _ in range(N)],\n",
        "    'idade': idades,\n",
        "    'cidade': np.random.choice(CIDADES, N),\n",
        "    'data_admissao': datas,\n",
        "    'salario': salarios,\n",
        "    'estado_civil': np.random.choice(ESTADOS_CIVIS, N),\n",
        "    'cargo': np.random.choice(CARGOS, N),\n",
        "    'telefone': telefones\n",
        "})\n",
        "\n",
        "# 2) Inconsistências aleatórias\n",
        "summary = {}\n",
        "\n",
        "# 2.1 Ausentes\n",
        "proporcoes_na = {\n",
        "    'idade': np.random.uniform(0.02, 0.08),\n",
        "    'salario': np.random.uniform(0.02, 0.08),\n",
        "    'cidade': np.random.uniform(0.02, 0.08),\n",
        "    'estado_civil': np.random.uniform(0.01, 0.06),\n",
        "    'cargo': np.random.uniform(0.01, 0.05),\n",
        "    'telefone': np.random.uniform(0.60, 0.95)\n",
        "}\n",
        "for col, p in proporcoes_na.items():\n",
        "    m = np.random.rand(N) < p\n",
        "    df.loc[m, col] = np.nan\n",
        "summary['na_inseridos_est'] = {k: round(v*N) for k, v in proporcoes_na.items()}\n",
        "\n",
        "# 2.2 Grafia errada (ruído textual)\n",
        "def ruidificar_texto(s: str) -> str:\n",
        "    if not isinstance(s, str):\n",
        "        return s\n",
        "    s2 = s\n",
        "    if random.random() < 0.5:\n",
        "        s2 = f\"  {s2}  \"\n",
        "    if random.random() < 0.5:\n",
        "        s2 = s2.upper() if random.random() < 0.5 else s2.title()\n",
        "    mapa = {\"o\":\"0\",\"i\":\"1\",\"e\":\"3\",\"a\":\"4\"}\n",
        "    if random.random() < 0.4:\n",
        "        for k,v in mapa.items():\n",
        "            if random.random() < 0.3:\n",
        "                s2 = s2.replace(k, v)\n",
        "    if random.random() < 0.5:\n",
        "        s2 = s2.replace(\" \", \"  \")\n",
        "    return s2\n",
        "\n",
        "for col in ['nome','cidade','estado_civil','cargo']:\n",
        "    mask_ruido = np.random.rand(N) < np.random.uniform(0.05, 0.15)\n",
        "    df.loc[mask_ruido, col] = df.loc[mask_ruido, col].astype('object').apply(ruidificar_texto)\n",
        "summary['ruido_texto_cols'] = ['nome','cidade','estado_civil','cargo']\n",
        "\n",
        "# 2.3 Idades inconsistentes\n",
        "idx_bad_idade = np.random.choice(df.index, size=int(np.random.uniform(0.01, 0.03)*N), replace=False)\n",
        "choices = [-5, -1, 5, 8, 10, 120, 150]\n",
        "df.loc[idx_bad_idade, 'idade'] = np.random.choice(choices, size=len(idx_bad_idade))\n",
        "summary['idades_inconsistentes'] = int(len(idx_bad_idade))\n",
        "\n",
        "# 2.4 Datas inconsistentes (futuras ou lixo)\n",
        "def data_futura():\n",
        "    base = datetime(2027,1,1)\n",
        "    return (base + timedelta(days=random.randint(0, 365*3))).strftime('%d/%m/%Y')\n",
        "idx_bad_data = np.random.choice(df.index, size=int(np.random.uniform(0.01, 0.03)*N), replace=False)\n",
        "for i in idx_bad_data:\n",
        "    df.at[i, 'data_admissao'] = data_futura() if random.random() < 0.7 else 'xx/yy/zzzz'\n",
        "summary['datas_inconsistentes'] = int(len(idx_bad_data))\n",
        "\n",
        "# 2.5 Outliers/negativos em salário\n",
        "sal = pd.to_numeric(df['salario'], errors='coerce')\n",
        "idx_ruido_sal = np.random.choice(df.index, size=int(np.random.uniform(0.01, 0.03)*N), replace=False)\n",
        "mult = np.random.choice([10, 20, 0.05], size=len(idx_ruido_sal))\n",
        "sal.loc[idx_ruido_sal] = sal.loc[idx_ruido_sal] * mult\n",
        "neg_idx = np.random.choice(df.index, size=int(np.random.uniform(0.003, 0.01)*N), replace=False)\n",
        "sal.loc[neg_idx] = -abs(sal.loc[neg_idx].fillna(1000))\n",
        "df['salario'] = sal\n",
        "summary['salarios_ruido'] = int(len(idx_ruido_sal))\n",
        "summary['salarios_negativos'] = int(len(neg_idx))\n",
        "\n",
        "# 2.6 Duplicatas\n",
        "dup_frac = np.random.uniform(0.01, 0.03)\n",
        "dups = df.sample(frac=dup_frac, replace=False, random_state=None)\n",
        "df_sujo = pd.concat([df, dups], ignore_index=True).sample(frac=1.0, random_state=None).reset_index(drop=True)\n",
        "summary['duplicatas_inseridas'] = int(len(dups))\n",
        "\n",
        "# 3) Conversões de tipo para facilitar a limpeza\n",
        "df_sujo['data_admissao'] = pd.to_datetime(df_sujo['data_admissao'], format='%d/%m/%Y', errors='coerce')\n",
        "df_sujo['idade'] = pd.to_numeric(df_sujo['idade'], errors='coerce')\n",
        "df_sujo['salario'] = pd.to_numeric(df_sujo['salario'], errors='coerce')\n",
        "\n",
        "# 4) Relatório rápido\n",
        "relatorio = {\n",
        "    'linhas_geradas_total': int(len(df_sujo)),\n",
        "    'nulos_por_coluna': df_sujo.isna().sum().to_dict(),\n",
        "    'duplicatas_totais': int(df_sujo.duplicated().sum()),\n",
        "}\n",
        "relatorio.update(summary)\n",
        "relatorio"
      ]
    },
    {
      "cell_type": "markdown",
      "id": "bda373b9",
      "metadata": {
        "id": "bda373b9"
      },
      "source": [
        "## Salvar CSV com timestamp\n",
        "O arquivo é salvo em `OUTPUT_DIR`, definido acima (Drive ou `/content`)."
      ]
    },
    {
      "cell_type": "code",
      "execution_count": 6,
      "id": "56f4246f-ba05-400b-adb1-7484f1451543",
      "metadata": {
        "colab": {
          "base_uri": "https://localhost:8080/"
        },
        "id": "56f4246f-ba05-400b-adb1-7484f1451543",
        "outputId": "f071be17-33e1-4e04-a47c-81f0a7cd3a9e"
      },
      "outputs": [
        {
          "output_type": "execute_result",
          "data": {
            "text/plain": [
              "(            nome  idade          cidade data_admissao  salario estado_civil  \\\n",
              " 0  Diego Almeida   29.0  belo horizonte    2021-11-04  2280.16          NaN   \n",
              " 1  Lucas Pereira   39.0           belem    2018-04-27  2360.69   divorciado   \n",
              " 2    Rita Santos   47.0         goiania    2021-03-02  2242.81        viuvo   \n",
              " \n",
              "         cargo telefone  \n",
              " 0      gestor      NaN  \n",
              " 1      gestor      NaN  \n",
              " 2  estagiario      NaN  ,\n",
              " (10239, 8),\n",
              " {'nome': 0,\n",
              "  'idade': 496,\n",
              "  'cidade': 784,\n",
              "  'data_admissao': 37,\n",
              "  'salario': 792,\n",
              "  'estado_civil': 165,\n",
              "  'cargo': 301,\n",
              "  'telefone': 9650})"
            ]
          },
          "metadata": {},
          "execution_count": 6
        }
      ],
      "source": [
        "# Inspeção do dataset 'sujo' (gerado na célula anterior)\n",
        "df_sujo.head(3), df_sujo.shape, df_sujo.isna().sum().to_dict()"
      ]
    },
    {
      "cell_type": "code",
      "execution_count": 7,
      "id": "4a49a6d2-6ae2-4483-993b-738e1081cf72",
      "metadata": {
        "colab": {
          "base_uri": "https://localhost:8080/"
        },
        "id": "4a49a6d2-6ae2-4483-993b-738e1081cf72",
        "outputId": "26021e12-f1cb-47d7-d554-ff1d6ecc4eaf"
      },
      "outputs": [
        {
          "output_type": "execute_result",
          "data": {
            "text/plain": [
              "{'shape': (10000, 7),\n",
              " 'ausentes_por_coluna': {'nome': 0,\n",
              "  'idade': 133,\n",
              "  'cidade': 0,\n",
              "  'data_admissao': 84,\n",
              "  'salario': 0,\n",
              "  'estado_civil': 0,\n",
              "  'cargo': 0},\n",
              " 'duplicatas_restantes': 0,\n",
              " 'colunas_removidas_>90%NaN': ['telefone'],\n",
              " 'duplicatas_removidas': 239}"
            ]
          },
          "metadata": {},
          "execution_count": 7
        }
      ],
      "source": [
        "# PRÉ-PROCESSAMENTO no dataset sintético 'sujo'\n",
        "import pandas as pd, numpy as np, unicodedata\n",
        "\n",
        "df = df_sujo.copy()\n",
        "\n",
        "# 1) Padronizar nomes das colunas\n",
        "def _norm_col(c):\n",
        "    c = unicodedata.normalize(\"NFKD\", str(c)).encode(\"ASCII\",\"ignore\").decode(\"ASCII\")\n",
        "    c = c.strip().lower().replace(\" \",\"_\")\n",
        "    c = \"\".join(ch if (ch.isalnum() or ch==\"_\") else \"_\" for ch in c)\n",
        "    while \"__\" in c: c = c.replace(\"__\",\"_\")\n",
        "    return c.strip(\"_\")\n",
        "df.columns = [_norm_col(c) for c in df.columns]\n",
        "\n",
        "# 2) Conversões de tipo\n",
        "for c in [x for x in df.columns if \"data\" in x or \"date\" in x]:\n",
        "    df[c] = pd.to_datetime(df[c], errors=\"coerce\", dayfirst=True)\n",
        "for c in [\"idade\",\"salario\"]:\n",
        "    if c in df.columns:\n",
        "        df[c] = pd.to_numeric(df[c], errors=\"coerce\")\n",
        "\n",
        "# 3) Limpeza de texto em categóricas\n",
        "def _clean_str(s):\n",
        "    if pd.isna(s): return s\n",
        "    s = str(s).strip()\n",
        "    s = \" \".join(s.split())\n",
        "    s = unicodedata.normalize(\"NFKD\", s).encode(\"ASCII\",\"ignore\").decode(\"ASCII\")\n",
        "    return s.title()\n",
        "for c in [\"nome\",\"cidade\",\"estado_civil\",\"cargo\"]:\n",
        "    if c in df.columns:\n",
        "        df[c] = df[c].map(_clean_str)\n",
        "\n",
        "# 4) Remover colunas com >90% ausentes\n",
        "null_ratio = df.isna().mean()\n",
        "drop_cols = null_ratio[null_ratio>0.9].index.tolist()\n",
        "if drop_cols:\n",
        "    df = df.drop(columns=drop_cols)\n",
        "\n",
        "# 5) Imputação simples\n",
        "for c in df.columns:\n",
        "    if df[c].dtype.kind in \"biufc\":\n",
        "        df[c] = df[c].fillna(df[c].median())\n",
        "    else:\n",
        "        if df[c].isna().any():\n",
        "            m = df[c].mode(dropna=True)\n",
        "            df[c] = df[c].fillna(m.iloc[0] if len(m) else \"Desconhecido\")\n",
        "\n",
        "# 6) Regras de inconsistência\n",
        "if \"idade\" in df.columns:\n",
        "    df.loc[(df[\"idade\"]<14) | (df[\"idade\"]>100), \"idade\"] = pd.NA\n",
        "if \"data_admissao\" in df.columns:\n",
        "    now = pd.Timestamp(\"today\").normalize()\n",
        "    df.loc[df[\"data_admissao\"]>now, \"data_admissao\"] = pd.NaT\n",
        "\n",
        "# 7) Remover duplicatas\n",
        "dup_count = int(df.duplicated().sum())\n",
        "df = df.drop_duplicates(keep=\"first\")\n",
        "\n",
        "# 8) Verificações finais\n",
        "resumo = {\n",
        "    \"shape\": df.shape,\n",
        "    \"ausentes_por_coluna\": df.isna().sum().to_dict(),\n",
        "    \"duplicatas_restantes\": int(df.duplicated().sum()),\n",
        "    \"colunas_removidas_>90%NaN\": drop_cols,\n",
        "    \"duplicatas_removidas\": dup_count\n",
        "}\n",
        "resumo"
      ]
    },
    {
      "cell_type": "code",
      "execution_count": 8,
      "id": "1f9042b4",
      "metadata": {
        "id": "1f9042b4",
        "colab": {
          "base_uri": "https://localhost:8080/",
          "height": 224
        },
        "outputId": "21922f22-55a0-40fa-b398-20907cf34a30"
      },
      "outputs": [
        {
          "output_type": "stream",
          "name": "stdout",
          "text": [
            "✅ CSV salvo em: /content/dataset_sintetico_sujo_8attrs_20250922_211359.csv\n"
          ]
        },
        {
          "output_type": "execute_result",
          "data": {
            "text/plain": [
              "                       nome  idade          cidade data_admissao  salario  \\\n",
              "0             Diego Almeida   29.0  belo horizonte    2021-11-04  2280.16   \n",
              "1             Lucas Pereira   39.0           belem    2018-04-27  2360.69   \n",
              "2               Rita Santos   47.0         goiania    2021-03-02  2242.81   \n",
              "3      Karina  Oliveira      120.0       fortaleza    2021-06-13  2088.93   \n",
              "4           Nicolas Pereira   55.0           belem    2017-11-19  2503.71   \n",
              "\n",
              "  estado_civil               cargo telefone  \n",
              "0          NaN              gestor      NaN  \n",
              "1   divorciado              gestor      NaN  \n",
              "2        viuvo          estagiario      NaN  \n",
              "3        viuvo  cientista de dados      NaN  \n",
              "4   divorciado            analista      NaN  "
            ],
            "text/html": [
              "\n",
              "  <div id=\"df-fa51945b-1f54-4787-b7a6-fb279728b4a9\" class=\"colab-df-container\">\n",
              "    <div>\n",
              "<style scoped>\n",
              "    .dataframe tbody tr th:only-of-type {\n",
              "        vertical-align: middle;\n",
              "    }\n",
              "\n",
              "    .dataframe tbody tr th {\n",
              "        vertical-align: top;\n",
              "    }\n",
              "\n",
              "    .dataframe thead th {\n",
              "        text-align: right;\n",
              "    }\n",
              "</style>\n",
              "<table border=\"1\" class=\"dataframe\">\n",
              "  <thead>\n",
              "    <tr style=\"text-align: right;\">\n",
              "      <th></th>\n",
              "      <th>nome</th>\n",
              "      <th>idade</th>\n",
              "      <th>cidade</th>\n",
              "      <th>data_admissao</th>\n",
              "      <th>salario</th>\n",
              "      <th>estado_civil</th>\n",
              "      <th>cargo</th>\n",
              "      <th>telefone</th>\n",
              "    </tr>\n",
              "  </thead>\n",
              "  <tbody>\n",
              "    <tr>\n",
              "      <th>0</th>\n",
              "      <td>Diego Almeida</td>\n",
              "      <td>29.0</td>\n",
              "      <td>belo horizonte</td>\n",
              "      <td>2021-11-04</td>\n",
              "      <td>2280.16</td>\n",
              "      <td>NaN</td>\n",
              "      <td>gestor</td>\n",
              "      <td>NaN</td>\n",
              "    </tr>\n",
              "    <tr>\n",
              "      <th>1</th>\n",
              "      <td>Lucas Pereira</td>\n",
              "      <td>39.0</td>\n",
              "      <td>belem</td>\n",
              "      <td>2018-04-27</td>\n",
              "      <td>2360.69</td>\n",
              "      <td>divorciado</td>\n",
              "      <td>gestor</td>\n",
              "      <td>NaN</td>\n",
              "    </tr>\n",
              "    <tr>\n",
              "      <th>2</th>\n",
              "      <td>Rita Santos</td>\n",
              "      <td>47.0</td>\n",
              "      <td>goiania</td>\n",
              "      <td>2021-03-02</td>\n",
              "      <td>2242.81</td>\n",
              "      <td>viuvo</td>\n",
              "      <td>estagiario</td>\n",
              "      <td>NaN</td>\n",
              "    </tr>\n",
              "    <tr>\n",
              "      <th>3</th>\n",
              "      <td>Karina  Oliveira</td>\n",
              "      <td>120.0</td>\n",
              "      <td>fortaleza</td>\n",
              "      <td>2021-06-13</td>\n",
              "      <td>2088.93</td>\n",
              "      <td>viuvo</td>\n",
              "      <td>cientista de dados</td>\n",
              "      <td>NaN</td>\n",
              "    </tr>\n",
              "    <tr>\n",
              "      <th>4</th>\n",
              "      <td>Nicolas Pereira</td>\n",
              "      <td>55.0</td>\n",
              "      <td>belem</td>\n",
              "      <td>2017-11-19</td>\n",
              "      <td>2503.71</td>\n",
              "      <td>divorciado</td>\n",
              "      <td>analista</td>\n",
              "      <td>NaN</td>\n",
              "    </tr>\n",
              "  </tbody>\n",
              "</table>\n",
              "</div>\n",
              "    <div class=\"colab-df-buttons\">\n",
              "\n",
              "  <div class=\"colab-df-container\">\n",
              "    <button class=\"colab-df-convert\" onclick=\"convertToInteractive('df-fa51945b-1f54-4787-b7a6-fb279728b4a9')\"\n",
              "            title=\"Convert this dataframe to an interactive table.\"\n",
              "            style=\"display:none;\">\n",
              "\n",
              "  <svg xmlns=\"http://www.w3.org/2000/svg\" height=\"24px\" viewBox=\"0 -960 960 960\">\n",
              "    <path d=\"M120-120v-720h720v720H120Zm60-500h600v-160H180v160Zm220 220h160v-160H400v160Zm0 220h160v-160H400v160ZM180-400h160v-160H180v160Zm440 0h160v-160H620v160ZM180-180h160v-160H180v160Zm440 0h160v-160H620v160Z\"/>\n",
              "  </svg>\n",
              "    </button>\n",
              "\n",
              "  <style>\n",
              "    .colab-df-container {\n",
              "      display:flex;\n",
              "      gap: 12px;\n",
              "    }\n",
              "\n",
              "    .colab-df-convert {\n",
              "      background-color: #E8F0FE;\n",
              "      border: none;\n",
              "      border-radius: 50%;\n",
              "      cursor: pointer;\n",
              "      display: none;\n",
              "      fill: #1967D2;\n",
              "      height: 32px;\n",
              "      padding: 0 0 0 0;\n",
              "      width: 32px;\n",
              "    }\n",
              "\n",
              "    .colab-df-convert:hover {\n",
              "      background-color: #E2EBFA;\n",
              "      box-shadow: 0px 1px 2px rgba(60, 64, 67, 0.3), 0px 1px 3px 1px rgba(60, 64, 67, 0.15);\n",
              "      fill: #174EA6;\n",
              "    }\n",
              "\n",
              "    .colab-df-buttons div {\n",
              "      margin-bottom: 4px;\n",
              "    }\n",
              "\n",
              "    [theme=dark] .colab-df-convert {\n",
              "      background-color: #3B4455;\n",
              "      fill: #D2E3FC;\n",
              "    }\n",
              "\n",
              "    [theme=dark] .colab-df-convert:hover {\n",
              "      background-color: #434B5C;\n",
              "      box-shadow: 0px 1px 3px 1px rgba(0, 0, 0, 0.15);\n",
              "      filter: drop-shadow(0px 1px 2px rgba(0, 0, 0, 0.3));\n",
              "      fill: #FFFFFF;\n",
              "    }\n",
              "  </style>\n",
              "\n",
              "    <script>\n",
              "      const buttonEl =\n",
              "        document.querySelector('#df-fa51945b-1f54-4787-b7a6-fb279728b4a9 button.colab-df-convert');\n",
              "      buttonEl.style.display =\n",
              "        google.colab.kernel.accessAllowed ? 'block' : 'none';\n",
              "\n",
              "      async function convertToInteractive(key) {\n",
              "        const element = document.querySelector('#df-fa51945b-1f54-4787-b7a6-fb279728b4a9');\n",
              "        const dataTable =\n",
              "          await google.colab.kernel.invokeFunction('convertToInteractive',\n",
              "                                                    [key], {});\n",
              "        if (!dataTable) return;\n",
              "\n",
              "        const docLinkHtml = 'Like what you see? Visit the ' +\n",
              "          '<a target=\"_blank\" href=https://colab.research.google.com/notebooks/data_table.ipynb>data table notebook</a>'\n",
              "          + ' to learn more about interactive tables.';\n",
              "        element.innerHTML = '';\n",
              "        dataTable['output_type'] = 'display_data';\n",
              "        await google.colab.output.renderOutput(dataTable, element);\n",
              "        const docLink = document.createElement('div');\n",
              "        docLink.innerHTML = docLinkHtml;\n",
              "        element.appendChild(docLink);\n",
              "      }\n",
              "    </script>\n",
              "  </div>\n",
              "\n",
              "\n",
              "    <div id=\"df-21b02441-4dfa-4fe0-a54d-da68e5c8a988\">\n",
              "      <button class=\"colab-df-quickchart\" onclick=\"quickchart('df-21b02441-4dfa-4fe0-a54d-da68e5c8a988')\"\n",
              "                title=\"Suggest charts\"\n",
              "                style=\"display:none;\">\n",
              "\n",
              "<svg xmlns=\"http://www.w3.org/2000/svg\" height=\"24px\"viewBox=\"0 0 24 24\"\n",
              "     width=\"24px\">\n",
              "    <g>\n",
              "        <path d=\"M19 3H5c-1.1 0-2 .9-2 2v14c0 1.1.9 2 2 2h14c1.1 0 2-.9 2-2V5c0-1.1-.9-2-2-2zM9 17H7v-7h2v7zm4 0h-2V7h2v10zm4 0h-2v-4h2v4z\"/>\n",
              "    </g>\n",
              "</svg>\n",
              "      </button>\n",
              "\n",
              "<style>\n",
              "  .colab-df-quickchart {\n",
              "      --bg-color: #E8F0FE;\n",
              "      --fill-color: #1967D2;\n",
              "      --hover-bg-color: #E2EBFA;\n",
              "      --hover-fill-color: #174EA6;\n",
              "      --disabled-fill-color: #AAA;\n",
              "      --disabled-bg-color: #DDD;\n",
              "  }\n",
              "\n",
              "  [theme=dark] .colab-df-quickchart {\n",
              "      --bg-color: #3B4455;\n",
              "      --fill-color: #D2E3FC;\n",
              "      --hover-bg-color: #434B5C;\n",
              "      --hover-fill-color: #FFFFFF;\n",
              "      --disabled-bg-color: #3B4455;\n",
              "      --disabled-fill-color: #666;\n",
              "  }\n",
              "\n",
              "  .colab-df-quickchart {\n",
              "    background-color: var(--bg-color);\n",
              "    border: none;\n",
              "    border-radius: 50%;\n",
              "    cursor: pointer;\n",
              "    display: none;\n",
              "    fill: var(--fill-color);\n",
              "    height: 32px;\n",
              "    padding: 0;\n",
              "    width: 32px;\n",
              "  }\n",
              "\n",
              "  .colab-df-quickchart:hover {\n",
              "    background-color: var(--hover-bg-color);\n",
              "    box-shadow: 0 1px 2px rgba(60, 64, 67, 0.3), 0 1px 3px 1px rgba(60, 64, 67, 0.15);\n",
              "    fill: var(--button-hover-fill-color);\n",
              "  }\n",
              "\n",
              "  .colab-df-quickchart-complete:disabled,\n",
              "  .colab-df-quickchart-complete:disabled:hover {\n",
              "    background-color: var(--disabled-bg-color);\n",
              "    fill: var(--disabled-fill-color);\n",
              "    box-shadow: none;\n",
              "  }\n",
              "\n",
              "  .colab-df-spinner {\n",
              "    border: 2px solid var(--fill-color);\n",
              "    border-color: transparent;\n",
              "    border-bottom-color: var(--fill-color);\n",
              "    animation:\n",
              "      spin 1s steps(1) infinite;\n",
              "  }\n",
              "\n",
              "  @keyframes spin {\n",
              "    0% {\n",
              "      border-color: transparent;\n",
              "      border-bottom-color: var(--fill-color);\n",
              "      border-left-color: var(--fill-color);\n",
              "    }\n",
              "    20% {\n",
              "      border-color: transparent;\n",
              "      border-left-color: var(--fill-color);\n",
              "      border-top-color: var(--fill-color);\n",
              "    }\n",
              "    30% {\n",
              "      border-color: transparent;\n",
              "      border-left-color: var(--fill-color);\n",
              "      border-top-color: var(--fill-color);\n",
              "      border-right-color: var(--fill-color);\n",
              "    }\n",
              "    40% {\n",
              "      border-color: transparent;\n",
              "      border-right-color: var(--fill-color);\n",
              "      border-top-color: var(--fill-color);\n",
              "    }\n",
              "    60% {\n",
              "      border-color: transparent;\n",
              "      border-right-color: var(--fill-color);\n",
              "    }\n",
              "    80% {\n",
              "      border-color: transparent;\n",
              "      border-right-color: var(--fill-color);\n",
              "      border-bottom-color: var(--fill-color);\n",
              "    }\n",
              "    90% {\n",
              "      border-color: transparent;\n",
              "      border-bottom-color: var(--fill-color);\n",
              "    }\n",
              "  }\n",
              "</style>\n",
              "\n",
              "      <script>\n",
              "        async function quickchart(key) {\n",
              "          const quickchartButtonEl =\n",
              "            document.querySelector('#' + key + ' button');\n",
              "          quickchartButtonEl.disabled = true;  // To prevent multiple clicks.\n",
              "          quickchartButtonEl.classList.add('colab-df-spinner');\n",
              "          try {\n",
              "            const charts = await google.colab.kernel.invokeFunction(\n",
              "                'suggestCharts', [key], {});\n",
              "          } catch (error) {\n",
              "            console.error('Error during call to suggestCharts:', error);\n",
              "          }\n",
              "          quickchartButtonEl.classList.remove('colab-df-spinner');\n",
              "          quickchartButtonEl.classList.add('colab-df-quickchart-complete');\n",
              "        }\n",
              "        (() => {\n",
              "          let quickchartButtonEl =\n",
              "            document.querySelector('#df-21b02441-4dfa-4fe0-a54d-da68e5c8a988 button');\n",
              "          quickchartButtonEl.style.display =\n",
              "            google.colab.kernel.accessAllowed ? 'block' : 'none';\n",
              "        })();\n",
              "      </script>\n",
              "    </div>\n",
              "\n",
              "    </div>\n",
              "  </div>\n"
            ],
            "application/vnd.google.colaboratory.intrinsic+json": {
              "type": "dataframe",
              "variable_name": "df_sujo",
              "summary": "{\n  \"name\": \"df_sujo\",\n  \"rows\": 10239,\n  \"fields\": [\n    {\n      \"column\": \"nome\",\n      \"properties\": {\n        \"dtype\": \"category\",\n        \"num_unique_values\": 1174,\n        \"samples\": [\n          \"Nicolas  Lima\",\n          \"Iris  Silva\",\n          \"Z3ca  F3rr3ira\"\n        ],\n        \"semantic_type\": \"\",\n        \"description\": \"\"\n      }\n    },\n    {\n      \"column\": \"idade\",\n      \"properties\": {\n        \"dtype\": \"number\",\n        \"std\": 12.633849970336193,\n        \"min\": -5.0,\n        \"max\": 150.0,\n        \"num_unique_values\": 62,\n        \"samples\": [\n          63.0,\n          -1.0,\n          29.0\n        ],\n        \"semantic_type\": \"\",\n        \"description\": \"\"\n      }\n    },\n    {\n      \"column\": \"cidade\",\n      \"properties\": {\n        \"dtype\": \"category\",\n        \"num_unique_values\": 227,\n        \"samples\": [\n          \"rio de janeiro\",\n          \"fort4l3z4\",\n          \"rio  de  janeiro\"\n        ],\n        \"semantic_type\": \"\",\n        \"description\": \"\"\n      }\n    },\n    {\n      \"column\": \"data_admissao\",\n      \"properties\": {\n        \"dtype\": \"date\",\n        \"min\": \"2015-01-01 00:00:00\",\n        \"max\": \"2029-12-21 00:00:00\",\n        \"num_unique_values\": 3659,\n        \"samples\": [\n          \"2023-02-03 00:00:00\",\n          \"2015-04-20 00:00:00\",\n          \"2022-11-09 00:00:00\"\n        ],\n        \"semantic_type\": \"\",\n        \"description\": \"\"\n      }\n    },\n    {\n      \"column\": \"salario\",\n      \"properties\": {\n        \"dtype\": \"number\",\n        \"std\": 6142.086457151854,\n        \"min\": -59729.399999999994,\n        \"max\": 161216.6,\n        \"num_unique_values\": 9140,\n        \"samples\": [\n          3385.97,\n          2153.96,\n          2928.19\n        ],\n        \"semantic_type\": \"\",\n        \"description\": \"\"\n      }\n    },\n    {\n      \"column\": \"estado_civil\",\n      \"properties\": {\n        \"dtype\": \"category\",\n        \"num_unique_values\": 122,\n        \"samples\": [\n          \"    Solteiro    \",\n          \"Viuv0\",\n          \"    solte1ro    \"\n        ],\n        \"semantic_type\": \"\",\n        \"description\": \"\"\n      }\n    },\n    {\n      \"column\": \"cargo\",\n      \"properties\": {\n        \"dtype\": \"category\",\n        \"num_unique_values\": 200,\n        \"samples\": [\n          \"c13nt1sta  d3  dad0s\",\n          \"    engenheiro  de  dados    \",\n          \"Desenvolvedor\"\n        ],\n        \"semantic_type\": \"\",\n        \"description\": \"\"\n      }\n    },\n    {\n      \"column\": \"telefone\",\n      \"properties\": {\n        \"dtype\": \"category\",\n        \"num_unique_values\": 571,\n        \"samples\": [\n          \"(11) 92076-5364\",\n          \"(11) 92001-9483\",\n          \"(11) 99285-4150\"\n        ],\n        \"semantic_type\": \"\",\n        \"description\": \"\"\n      }\n    }\n  ]\n}"
            }
          },
          "metadata": {},
          "execution_count": 8
        }
      ],
      "source": [
        "from datetime import datetime\n",
        "import os\n",
        "\n",
        "ts = datetime.now().strftime('%Y%m%d_%H%M%S')\n",
        "OUT = os.path.join(OUTPUT_DIR, f\"dataset_sintetico_sujo_8attrs_{ts}.csv\")\n",
        "df_sujo.to_csv(OUT, index=False)\n",
        "print(f\"✅ CSV salvo em: {OUT}\")\n",
        "df_sujo.head()"
      ]
    },
    {
      "cell_type": "code",
      "execution_count": 9,
      "id": "f70e835a-a32d-40d4-8270-d0bd04133849",
      "metadata": {
        "colab": {
          "base_uri": "https://localhost:8080/"
        },
        "id": "f70e835a-a32d-40d4-8270-d0bd04133849",
        "outputId": "fd6425c9-b5f2-4a8d-d3c0-19da6ec68eff"
      },
      "outputs": [
        {
          "output_type": "execute_result",
          "data": {
            "text/plain": [
              "('/content/dataset_sintetico_limpo_20250922_211402.csv',\n",
              " '/content/Respostas_AULA04_PREPROCESSAMENTO_20250922_211402.md')"
            ]
          },
          "metadata": {},
          "execution_count": 9
        }
      ],
      "source": [
        "# Salvar arquivos finais: CSV limpo e um pequeno relatório de respostas\n",
        "from datetime import datetime\n",
        "ts = datetime.now().strftime(\"%Y%m%d_%H%M%S\")\n",
        "csv_limpo = f\"{OUTPUT_DIR}/dataset_sintetico_limpo_{ts}.csv\"\n",
        "md_path   = f\"{OUTPUT_DIR}/Respostas_AULA04_PREPROCESSAMENTO_{ts}.md\"\n",
        "\n",
        "df.to_csv(csv_limpo, index=False)\n",
        "\n",
        "md_lines = []\n",
        "md_lines.append(\"# Respostas – Aula 04 (Pré-processamento em dataset sintético)\")\n",
        "md_lines.append(\"**1) Padronização de colunas**  \\nResposta: aplicado snake_case.\")\n",
        "md_lines.append(\"**2) Conversão de tipos**  \\nResposta: datas para datetime; idade/salario para numérico.\")\n",
        "md_lines.append(\"**3) Limpeza de texto**  \\nResposta: normalização em nome, cidade, estado_civil, cargo.\")\n",
        "md_lines.append(f\"**4) Remoção >90% NaN**  \\nResposta: {drop_cols}.\")\n",
        "md_lines.append(\"**5) Imputação**  \\nResposta: mediana (numéricos) e moda (categóricas).\")\n",
        "md_lines.append(\"**6) Inconsistências**  \\nResposta: idade fora de 14–100 → NaN; data_admissao futura → NaT.\")\n",
        "md_lines.append(f\"**7) Duplicatas**  \\nResposta: removidas {dup_count}.\")\n",
        "md_lines.append(f\"**8) Verificações finais**  \\nResposta: shape={resumo['shape']}, duplicatas_restantes={resumo['duplicatas_restantes']}.\")\n",
        "open(md_path,\"w\",encoding=\"utf-8\").write(\"\\n\\n\".join(md_lines))\n",
        "\n",
        "csv_limpo, md_path"
      ]
    }
  ],
  "metadata": {
    "kernelspec": {
      "display_name": "Python 3 (ipykernel)",
      "language": "python",
      "name": "python3"
    },
    "language_info": {
      "codemirror_mode": {
        "name": "ipython",
        "version": 3
      },
      "file_extension": ".py",
      "mimetype": "text/x-python",
      "name": "python",
      "nbconvert_exporter": "python",
      "pygments_lexer": "ipython3",
      "version": "3.13.5"
    },
    "colab": {
      "provenance": []
    }
  },
  "nbformat": 4,
  "nbformat_minor": 5
}