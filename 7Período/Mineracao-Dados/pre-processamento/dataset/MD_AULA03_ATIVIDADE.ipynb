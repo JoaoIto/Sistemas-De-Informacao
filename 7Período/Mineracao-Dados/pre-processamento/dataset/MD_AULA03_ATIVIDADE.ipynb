{
  "cells": [
    {
      "cell_type": "markdown",
      "id": "61de697c-86c7-42fa-baec-55c768cc477b",
      "metadata": {
        "id": "61de697c-86c7-42fa-baec-55c768cc477b"
      },
      "source": [
        "## <center> SISTEMAS DE INFORMAÇÃO</center>\n",
        "### <center> MINERAÇÃO DE DADOS</center>\n",
        "### <center> ATIVIDADE </center>"
      ]
    },
    {
      "cell_type": "markdown",
      "id": "8faddaba-0ccc-4e86-8d97-4eb2000042ae",
      "metadata": {
        "id": "8faddaba-0ccc-4e86-8d97-4eb2000042ae"
      },
      "source": [
        "### Baseado no dataset com dados sobre Covid-19 no Brasil, disponível em https://brasil.io/dataset/covid19/files/, baixe o dataset 'caso' e  responda as perguntas a seguir"
      ]
    },
    {
      "cell_type": "markdown",
      "id": "ae3332a0-e746-4180-8bfa-1fe4262fef2b",
      "metadata": {
        "id": "ae3332a0-e746-4180-8bfa-1fe4262fef2b"
      },
      "source": [
        "#### 1.\tQuantos registros há na base de dados?"
      ]
    },
    {
      "cell_type": "code",
      "execution_count": null,
      "id": "db9f1bc8-fb68-4567-b574-62fe784debc0",
      "metadata": {
        "id": "db9f1bc8-fb68-4567-b574-62fe784debc0"
      },
      "outputs": [],
      "source": []
    },
    {
      "cell_type": "markdown",
      "id": "7a292eaf-c3dc-43e3-acd1-c486f5377009",
      "metadata": {
        "id": "7a292eaf-c3dc-43e3-acd1-c486f5377009"
      },
      "source": [
        "#### 2.\tQuais estados estão presentes na base de dados?"
      ]
    },
    {
      "cell_type": "code",
      "execution_count": null,
      "id": "26bc32c1-29b3-4606-8351-dba5c4d22cb3",
      "metadata": {
        "id": "26bc32c1-29b3-4606-8351-dba5c4d22cb3"
      },
      "outputs": [],
      "source": []
    },
    {
      "cell_type": "markdown",
      "id": "4a354a4f-4009-45a2-8ba1-83a235831230",
      "metadata": {
        "id": "4a354a4f-4009-45a2-8ba1-83a235831230"
      },
      "source": [
        "#### 3.\tQual o total de casos confirmados e mortes no Brasil?"
      ]
    },
    {
      "cell_type": "code",
      "execution_count": null,
      "id": "06be6c1c-5199-47a3-be6b-b94aa747c4ef",
      "metadata": {
        "id": "06be6c1c-5199-47a3-be6b-b94aa747c4ef"
      },
      "outputs": [],
      "source": []
    },
    {
      "cell_type": "markdown",
      "id": "3e3c4d50-83cc-4497-b171-b3a80f268bc5",
      "metadata": {
        "id": "3e3c4d50-83cc-4497-b171-b3a80f268bc5"
      },
      "source": [
        "#### 4.\tQual estado teve o maior número total de casos confirmados?"
      ]
    },
    {
      "cell_type": "code",
      "execution_count": null,
      "id": "07bf6a9f-698d-4ebd-bd5b-d29a27460fd8",
      "metadata": {
        "id": "07bf6a9f-698d-4ebd-bd5b-d29a27460fd8"
      },
      "outputs": [],
      "source": []
    },
    {
      "cell_type": "markdown",
      "id": "3e23744b-af03-49ca-8fb5-827b1d04df04",
      "metadata": {
        "id": "3e23744b-af03-49ca-8fb5-827b1d04df04"
      },
      "source": [
        "#### 5.\tQual a cidade do Tocantins que teve o maior número de óbitos?"
      ]
    },
    {
      "cell_type": "code",
      "execution_count": null,
      "id": "69134020-3db1-4a06-aaf4-86319a86c64c",
      "metadata": {
        "id": "69134020-3db1-4a06-aaf4-86319a86c64c"
      },
      "outputs": [],
      "source": []
    },
    {
      "cell_type": "markdown",
      "id": "e248307d-8f5a-4965-9cf7-996f958b2183",
      "metadata": {
        "id": "e248307d-8f5a-4965-9cf7-996f958b2183"
      },
      "source": [
        "#### 6.\tQual estado teve a maior taxa de mortalidade?"
      ]
    },
    {
      "cell_type": "code",
      "execution_count": null,
      "id": "1c6fc3ae-4a28-457e-9d52-0ca496a2af62",
      "metadata": {
        "id": "1c6fc3ae-4a28-457e-9d52-0ca496a2af62"
      },
      "outputs": [],
      "source": []
    },
    {
      "cell_type": "markdown",
      "id": "06368e41-62ee-4d41-9618-79c0d271294b",
      "metadata": {
        "id": "06368e41-62ee-4d41-9618-79c0d271294b"
      },
      "source": [
        "#### 7.\tQual a média de casos confirmados por estado?"
      ]
    },
    {
      "cell_type": "code",
      "execution_count": null,
      "id": "a8f44742-e988-4f41-86e8-90f02c6b371f",
      "metadata": {
        "id": "a8f44742-e988-4f41-86e8-90f02c6b371f"
      },
      "outputs": [],
      "source": []
    },
    {
      "cell_type": "markdown",
      "id": "b06e3123-cf0a-46a2-9ebe-81de10749ccf",
      "metadata": {
        "id": "b06e3123-cf0a-46a2-9ebe-81de10749ccf"
      },
      "source": [
        "#### 8.\tQual a cidade com o maior número de casos confirmados por 100 mil habitantes?"
      ]
    },
    {
      "cell_type": "code",
      "execution_count": null,
      "id": "8d7e774d-9fee-4da8-be2b-00be6b40cfd1",
      "metadata": {
        "id": "8d7e774d-9fee-4da8-be2b-00be6b40cfd1"
      },
      "outputs": [],
      "source": []
    },
    {
      "cell_type": "code",
      "source": [],
      "metadata": {
        "id": "RrsX9kQzlV_A"
      },
      "id": "RrsX9kQzlV_A",
      "execution_count": null,
      "outputs": []
    }
  ],
  "metadata": {
    "kernelspec": {
      "display_name": "Python 3 (ipykernel)",
      "language": "python",
      "name": "python3"
    },
    "language_info": {
      "codemirror_mode": {
        "name": "ipython",
        "version": 3
      },
      "file_extension": ".py",
      "mimetype": "text/x-python",
      "name": "python",
      "nbconvert_exporter": "python",
      "pygments_lexer": "ipython3",
      "version": "3.13.1"
    },
    "colab": {
      "provenance": []
    }
  },
  "nbformat": 4,
  "nbformat_minor": 5
}