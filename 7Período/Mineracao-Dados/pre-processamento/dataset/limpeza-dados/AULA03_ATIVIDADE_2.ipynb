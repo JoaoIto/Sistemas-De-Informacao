{
  "cells": [
    {
      "cell_type": "markdown",
      "metadata": {
        "id": "HSHWBgn3yzTo"
      },
      "source": [
        "## UNITINS\n",
        "### SISTEMAS DE INFORMAÇÃO\n",
        "### MINERAÇÃO DE DADOS"
      ],
      "id": "HSHWBgn3yzTo"
    },
    {
      "cell_type": "markdown",
      "metadata": {
        "id": "AMiYn5h8yzTs"
      },
      "source": [
        "## 0) Preparação: importar pacotes e carregar o CSV\n",
        "- Carregar os dados no DataFrame `df`.\n",
        "- Visualizar algumas linhas para entender os dados."
      ],
      "id": "AMiYn5h8yzTs"
    },
    {
      "cell_type": "markdown",
      "metadata": {
        "id": "IjI0DnLJyzTt"
      },
      "source": [
        "## 1) Inspeção inicial\n",
        "- **`shape`**: dimensões (linhas, colunas)\n",
        "- **`info()`**: tipos e contagem de não nulos\n",
        "- **`sample()`**: amostra rápida"
      ],
      "id": "IjI0DnLJyzTt"
    },
    {
      "cell_type": "markdown",
      "metadata": {
        "id": "2HeoUnOmyzTu"
      },
      "source": [
        "## 2) Padronizar nomes de colunas (garantir nomes limpos)\n",
        "- Remover espaços extras e símbolos\n",
        "- Colocar tudo em minúsculas\n",
        "- Substituir espaços por `_`"
      ],
      "id": "2HeoUnOmyzTu"
    },
    {
      "cell_type": "markdown",
      "metadata": {
        "id": "NftwJQYUyzTu"
      },
      "source": [
        "## 3) Conversão de tipos (datas e numéricos)\n",
        "- `data_admissao` → `datetime`\n",
        "- `idade`/`salario_r` → numéricos"
      ],
      "id": "NftwJQYUyzTu"
    },
    {
      "cell_type": "markdown",
      "metadata": {
        "id": "bdRR-l6uyzTv"
      },
      "source": [
        "## 4) Limpeza de texto em colunas categóricas\n",
        "-  Remover os espaços em branco e deixar os caracteres minúsculos nos atributos: `nome`, `cidade`, `estado-civil`, `cargo`"
      ],
      "id": "bdRR-l6uyzTv"
    },
    {
      "cell_type": "markdown",
      "metadata": {
        "id": "GYqBBkncyzTv"
      },
      "source": [
        "## 5) Remover coluna com muitos ausentes (exclusão de atributos ausentes)\n",
        "- Critério: se o atributo tiver  > 90%  de dados faltando, realize sua remoção"
      ],
      "id": "GYqBBkncyzTv"
    },
    {
      "cell_type": "markdown",
      "metadata": {
        "id": "siQJncldyzTv"
      },
      "source": [
        "## 6) Tratar incompletude (imputação simples)\n",
        "- Numéricos (`idade`, `salario`) → **mediana**\n",
        "- Categóricos → **moda**\n"
      ],
      "id": "siQJncldyzTv"
    },
    {
      "cell_type": "markdown",
      "metadata": {
        "id": "YLllx_AyyzTw"
      },
      "source": [
        "## 7) Inconsistência: regras simples\n",
        "- `idade` plausível: 15–95 (fora → `NaN` → reimputar)\n",
        "- `data_admissao` no futuro → `NaT` (Not a Time - nulo)"
      ],
      "id": "YLllx_AyyzTw"
    },
    {
      "cell_type": "markdown",
      "metadata": {
        "id": "9npsCV1ByzTw"
      },
      "source": [
        "## 8) Ruído: remover duplicatas\n",
        "\n",
        "- Remover duplicatas mantendo a primeira ocorrência"
      ],
      "id": "9npsCV1ByzTw"
    },
    {
      "cell_type": "markdown",
      "metadata": {
        "id": "-jLcNhE1yzTw"
      },
      "source": [
        "## 10) Verificações finais e salvar\n",
        "- Conferir `NaN`s e duplicatas\n",
        "- Salvar o CSV limpo"
      ],
      "id": "-jLcNhE1yzTw"
    }
  ],
  "metadata": {
    "kernelspec": {
      "display_name": "Python 3",
      "language": "python",
      "name": "python3"
    },
    "language_info": {
      "name": "python",
      "version": "3.11"
    },
    "colab": {
      "provenance": []
    }
  },
  "nbformat": 4,
  "nbformat_minor": 5
}