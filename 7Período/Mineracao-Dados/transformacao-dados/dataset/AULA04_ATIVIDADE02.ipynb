{
  "nbformat": 4,
  "nbformat_minor": 0,
  "metadata": {
    "colab": {
      "provenance": []
    },
    "kernelspec": {
      "name": "python3",
      "display_name": "Python 3"
    },
    "language_info": {
      "name": "python"
    }
  },
  "cells": [
    {
      "cell_type": "code",
      "execution_count": null,
      "metadata": {
        "id": "Iyj6muY6BZJD"
      },
      "outputs": [],
      "source": [
        "import pandas as pd"
      ]
    },
    {
      "cell_type": "code",
      "source": [
        "df = pd.read_csv('dataset_sintetico_sujo.csv')"
      ],
      "metadata": {
        "id": "F5I5kYoJNTHF"
      },
      "execution_count": null,
      "outputs": []
    },
    {
      "cell_type": "code",
      "source": [
        "df.head(4)"
      ],
      "metadata": {
        "id": "e2-hEPxqNidZ"
      },
      "execution_count": null,
      "outputs": []
    },
    {
      "cell_type": "code",
      "source": [
        "df.shape"
      ],
      "metadata": {
        "id": "sS_B0Y2hOtfq"
      },
      "execution_count": null,
      "outputs": []
    },
    {
      "cell_type": "code",
      "source": [
        "df.sample(5, random_state=1)"
      ],
      "metadata": {
        "id": "v-VW__PsOz6l"
      },
      "execution_count": null,
      "outputs": []
    },
    {
      "cell_type": "code",
      "source": [
        "df.info()"
      ],
      "metadata": {
        "id": "r2jyJlQ0N9x-"
      },
      "execution_count": null,
      "outputs": []
    },
    {
      "cell_type": "code",
      "source": [
        "# conversão de tipo\n",
        "df['data_admissao'] = pd.to_datetime(df['data_admissao'], errors='coerce')\n",
        "df.dtypes"
      ],
      "metadata": {
        "id": "JWCRMhnpPHov"
      },
      "execution_count": null,
      "outputs": []
    },
    {
      "cell_type": "code",
      "source": [
        "#verificando valores ausentes\n",
        "df.isnull().sum()"
      ],
      "metadata": {
        "id": "ghqNahqANr8j"
      },
      "execution_count": null,
      "outputs": []
    },
    {
      "cell_type": "code",
      "source": [
        "df.duplicated().sum()"
      ],
      "metadata": {
        "id": "OGaE5_qfQT7s"
      },
      "execution_count": null,
      "outputs": []
    },
    {
      "cell_type": "code",
      "source": [
        "df[df.duplicated()]"
      ],
      "metadata": {
        "id": "26nIgVuiQbHI"
      },
      "execution_count": null,
      "outputs": []
    },
    {
      "cell_type": "code",
      "source": [
        "# excluindo os valores duplicados\n",
        "df = df.drop_duplicates()"
      ],
      "metadata": {
        "id": "ECaJHy1jRKbN"
      },
      "execution_count": null,
      "outputs": []
    },
    {
      "cell_type": "code",
      "source": [
        "cols = ['nome', 'cidade', 'estado_civil', 'cargo']\n",
        "\n",
        "df.loc[:, cols] = df[cols].apply(\n",
        "    lambda col: col.str.strip()\n",
        "                   .str.lower()\n",
        "                   .str.replace(r'\\s+', ' ', regex=True)\n",
        ")"
      ],
      "metadata": {
        "id": "irL_bnkGRN6T"
      },
      "execution_count": null,
      "outputs": []
    },
    {
      "cell_type": "code",
      "source": [
        "df.head(3)"
      ],
      "metadata": {
        "id": "h8CCpbvcSPTN"
      },
      "execution_count": null,
      "outputs": []
    },
    {
      "cell_type": "code",
      "source": [
        "print('Percentual de atributos ausentes')\n",
        "taxa_idade = df['idade'].isna().mean()\n",
        "print(f'Idade: {taxa_idade:.2%}')\n",
        "taxa_cidade = df['cidade'].isna().mean()\n",
        "print(f'Cidade: {taxa_cidade:.2%}')\n",
        "taxa_adm = df['data_admissao'].isna().mean()\n",
        "print(f'data_admissao: {taxa_adm:.2%}')\n",
        "taxa_sal = df['salario'].isna().mean()\n",
        "print(f'salario: {taxa_sal:.2%}')\n",
        "taxa_est = df['estado_civil'].isna().mean()\n",
        "print(f'estado_civil: {taxa_est:.2%}')\n",
        "taxa_cargo = df['cargo'].isna().mean()\n",
        "print(f'cargo: {taxa_cargo:.2%}')\n",
        "taxa_tel = df['telefone'].isna().mean()\n",
        "print(f'Telefone: {taxa_tel:.2%}')"
      ],
      "metadata": {
        "id": "DC0sfr-aSVAB"
      },
      "execution_count": null,
      "outputs": []
    },
    {
      "cell_type": "code",
      "source": [
        "df = df.drop(columns='telefone')"
      ],
      "metadata": {
        "id": "LgLLfzzr4hou"
      },
      "execution_count": null,
      "outputs": []
    },
    {
      "cell_type": "code",
      "source": [
        "df.head(2)"
      ],
      "metadata": {
        "id": "jcDK5bEk48KZ"
      },
      "execution_count": null,
      "outputs": []
    },
    {
      "cell_type": "code",
      "source": [
        "df['idade'] = df['idade'].fillna(df['idade'].median())"
      ],
      "metadata": {
        "id": "PRiJK0yj53dE"
      },
      "execution_count": null,
      "outputs": []
    },
    {
      "cell_type": "code",
      "source": [
        "df['salario'] = df['salario'].fillna(df['salario'].median())"
      ],
      "metadata": {
        "id": "1VE7iYp25-uF"
      },
      "execution_count": null,
      "outputs": []
    },
    {
      "cell_type": "code",
      "source": [
        "# criando a categoria desconhecido\n",
        "df['estado_civil'] = df['estado_civil'].fillna('desconhecido')"
      ],
      "metadata": {
        "id": "o7eAla_iWlz_"
      },
      "execution_count": null,
      "outputs": []
    },
    {
      "cell_type": "code",
      "source": [
        "# criando a categoria desconhecido\n",
        "df['cargo'] = df['cargo'].fillna('desconhecido')"
      ],
      "metadata": {
        "id": "rDmI_dv0WzEV"
      },
      "execution_count": null,
      "outputs": []
    },
    {
      "cell_type": "code",
      "source": [
        "# criando a categoria cidade_desconhecida\n",
        "df['cidade'] = df['cidade'].fillna('cidade_desconhecida')"
      ],
      "metadata": {
        "id": "BvI51Hi5XDsx"
      },
      "execution_count": null,
      "outputs": []
    },
    {
      "cell_type": "code",
      "source": [
        "# Se a idade for uma variável crítica, preecha com a mediana\n",
        "# Se a idade não for uma variável crítica,\n",
        "\n",
        "idade_negativa = df[df['idade']< 0]['idade'].count()\n",
        "print(f'A quantidade de itens com idade negativa é: {idade_negativa}')"
      ],
      "metadata": {
        "id": "Iu6vRK2a6h1K"
      },
      "execution_count": null,
      "outputs": []
    },
    {
      "cell_type": "code",
      "source": [
        "df[df['idade']< 0]"
      ],
      "metadata": {
        "id": "GsN0_-lN8Tzn"
      },
      "execution_count": null,
      "outputs": []
    },
    {
      "cell_type": "code",
      "source": [
        "df[df['idade']< 15]['idade'].count()"
      ],
      "metadata": {
        "id": "AC7z6rUC8vaC"
      },
      "execution_count": null,
      "outputs": []
    },
    {
      "cell_type": "code",
      "source": [
        "df[df['idade']> 95]['idade'].count()"
      ],
      "metadata": {
        "id": "Xl1dGtnb9Rfz"
      },
      "execution_count": null,
      "outputs": []
    },
    {
      "cell_type": "code",
      "source": [
        "import numpy as np\n",
        "# -- ajustando o atributo idade para um intervalo específico --\n",
        "df['idade'] = df['idade'].mask(~df['idade'].between(15, 95), np.nan)\n",
        "df['idade'] = df['idade'].fillna(df['idade'].median())"
      ],
      "metadata": {
        "id": "rO862Hj89gxt"
      },
      "execution_count": null,
      "outputs": []
    },
    {
      "cell_type": "code",
      "source": [
        "df.info()"
      ],
      "metadata": {
        "id": "w9tQOfJa9vFQ"
      },
      "execution_count": null,
      "outputs": []
    },
    {
      "cell_type": "code",
      "source": [
        "# Desvantagens da imputação com a moda\n",
        "# Pode inflar artificialmente a cidade mais comum, criando um viés.\n",
        "# Não considera contexto (por exemplo, o usuário pode ser de outra região).\n",
        "# Pode distorcer análises geográficas (ex.: distribuição por cidade).\n",
        "df['cidade'].isnull().sum()"
      ],
      "metadata": {
        "id": "VI3-YD_193qx"
      },
      "execution_count": null,
      "outputs": []
    },
    {
      "cell_type": "code",
      "source": [
        "# criando a categoria cidade_desconhecida\n",
        "df['cidade'] = df['cidade'].fillna('cidade_desconhecida')"
      ],
      "metadata": {
        "id": "Kmexcre1-4tN"
      },
      "execution_count": null,
      "outputs": []
    },
    {
      "cell_type": "code",
      "source": [
        "# SE o atributo nome for ser utilizado para exibição = capitalizar\n",
        "# Se ele é irelevante para a análise/modelo = não capitalizar"
      ],
      "metadata": {
        "id": "0DkVVwWb_Nzd"
      },
      "execution_count": null,
      "outputs": []
    },
    {
      "cell_type": "code",
      "source": [
        "df = df.drop(columns='nome')"
      ],
      "metadata": {
        "id": "_2wvCa9WIbnc"
      },
      "execution_count": null,
      "outputs": []
    },
    {
      "cell_type": "code",
      "source": [
        "df.head(5)"
      ],
      "metadata": {
        "id": "dC8arEcgIlaO"
      },
      "execution_count": null,
      "outputs": []
    },
    {
      "cell_type": "code",
      "source": [
        "# Expressão regular: só letras (maiúsculas/minúsculas), espaços e acentos\n",
        "regex = r'^[A-Za-zÀ-ÖØ-öø-ÿ\\s_]+$'\n",
        "\n",
        "# Cria uma flag booleana para identificar valores inválidos\n",
        "df[\"cidade_valida\"] = df[\"cidade\"].str.match(regex)\n",
        "\n",
        "# Filtrar apenas os registros inválidos\n",
        "cidades_invalidas = df[~df[\"cidade_valida\"]]\n",
        "cidades_invalidas"
      ],
      "metadata": {
        "id": "KuVWdTt7I9Eh"
      },
      "execution_count": null,
      "outputs": []
    },
    {
      "cell_type": "code",
      "source": [
        "cidades_invalidas['cidade'].unique()"
      ],
      "metadata": {
        "id": "ZnqM-ksRJJ2w"
      },
      "execution_count": null,
      "outputs": []
    },
    {
      "cell_type": "code",
      "source": [
        "# Dicionário de substituição\n",
        "# leetspek (números e símbolos substituem letras que têm aparência parecida)\n",
        "substituicoes = {\n",
        "    \"0\": \"o\",\n",
        "    \"1\": \"i\",\n",
        "    \"3\": \"e\",\n",
        "    \"4\": \"a\",\n",
        "    \"5\": \"s\",\n",
        "    \"7\": \"t\",\n",
        "    \"9\": \"g\"\n",
        "}"
      ],
      "metadata": {
        "id": "XKvh_FvgKtlC"
      },
      "execution_count": null,
      "outputs": []
    },
    {
      "cell_type": "code",
      "source": [
        " # Substituir caracteres incorretos\n",
        "for errado, certo in substituicoes.items():\n",
        "    df['cidade'] = df['cidade'].str.replace(errado, certo, regex=False)\n",
        "\n",
        "# 3. Padronizar maiúsculas/minúsculas\n",
        "df[\"cidade\"] = df[\"cidade\"].str.title()\n",
        "\n"
      ],
      "metadata": {
        "id": "iF0ZK0z_LMTF"
      },
      "execution_count": null,
      "outputs": []
    },
    {
      "cell_type": "code",
      "source": [
        "df['cidade']"
      ],
      "metadata": {
        "id": "LtHlyeL_MiGs"
      },
      "execution_count": null,
      "outputs": []
    },
    {
      "cell_type": "code",
      "source": [
        "# Verificando se todos os valores de salário são do tipo float\n",
        "df['salario'].apply(lambda x: isinstance(x, float)).all()\n",
        "# True = todos são float"
      ],
      "metadata": {
        "id": "cKmKLw4kM5A-"
      },
      "execution_count": null,
      "outputs": []
    },
    {
      "cell_type": "code",
      "source": [
        "# Expressão regular: só letras (maiúsculas/minúsculas), espaços e acentos\n",
        "regex = r'^[A-Za-zÀ-ÖØ-öø-ÿ\\s]+$'\n",
        "\n",
        "# Cria uma flag booleana para identificar valores inválidos\n",
        "df[\"ec_valido\"] = df[\"estado_civil\"].str.match(regex)\n",
        "\n",
        "# Filtrar apenas os registros inválidos\n",
        "ec_invalido = df[~df[\"ec_valido\"]]\n",
        "ec_invalido"
      ],
      "metadata": {
        "id": "99Ufb8h-NPRY"
      },
      "execution_count": null,
      "outputs": []
    },
    {
      "cell_type": "code",
      "source": [
        "# Substituir caracteres incorretos\n",
        "for errado, certo in substituicoes.items():\n",
        "    df['estado_civil'] = df['estado_civil'].str.replace(errado, certo, regex=False)\n",
        "\n",
        "# 3. Padronizar maiúsculas/minúsculas\n",
        "df[\"estado_civil\"] = df[\"estado_civil\"].str.title()\n"
      ],
      "metadata": {
        "id": "25j8meZ-Nn9D"
      },
      "execution_count": null,
      "outputs": []
    },
    {
      "cell_type": "code",
      "source": [
        "df['estado_civil']"
      ],
      "metadata": {
        "id": "-wyfP_0CNwwI"
      },
      "execution_count": null,
      "outputs": []
    },
    {
      "cell_type": "code",
      "source": [
        "# Expressão regular: só letras (maiúsculas/minúsculas), espaços e acentos\n",
        "regex = r'^[A-Za-zÀ-ÖØ-öø-ÿ\\s]+$'\n",
        "\n",
        "# Cria uma flag booleana para identificar valores inválidos\n",
        "df[\"cargo_valido\"] = df[\"cargo\"].str.match(regex)\n",
        "\n",
        "# Filtrar apenas os registros inválidos\n",
        "cargo_invalido = df[~df[\"cargo_valido\"]]\n",
        "cargo_invalido"
      ],
      "metadata": {
        "id": "rvpjqI9ZN3yW"
      },
      "execution_count": null,
      "outputs": []
    },
    {
      "cell_type": "code",
      "source": [
        "# Substituir caracteres incorretos\n",
        "for errado, certo in substituicoes.items():\n",
        "    df['cargo'] = df['cargo'].str.replace(errado, certo, regex=False)\n",
        "\n",
        "# 3. Padronizar maiúsculas/minúsculas\n",
        "df['cargo'] = df['cargo'].str.title()"
      ],
      "metadata": {
        "id": "HYoZ8kNgOIKs"
      },
      "execution_count": null,
      "outputs": []
    },
    {
      "cell_type": "code",
      "source": [
        "df = df.drop(columns='cidade_valida')"
      ],
      "metadata": {
        "id": "WIfzlMa2OlYe"
      },
      "execution_count": null,
      "outputs": []
    },
    {
      "cell_type": "code",
      "source": [
        "df = df.drop(columns='ec_valido')"
      ],
      "metadata": {
        "id": "zlCUvX1zOvF-"
      },
      "execution_count": null,
      "outputs": []
    },
    {
      "cell_type": "code",
      "source": [
        "df = df.drop(columns='cargo_valido')"
      ],
      "metadata": {
        "id": "_m9QmTrWO0iP"
      },
      "execution_count": null,
      "outputs": []
    },
    {
      "cell_type": "code",
      "source": [
        "df.to_csv(\"dataset_limpo.csv\", index=False, encoding=\"utf-8\")"
      ],
      "metadata": {
        "id": "THxlWrvtPBmB"
      },
      "execution_count": null,
      "outputs": []
    },
    {
      "cell_type": "code",
      "source": [
        "# Salvar no ambiente temporário\n",
        "df.to_csv(\"dataset_limpo.csv\", index=False, encoding=\"utf-8\")\n",
        "\n",
        "# Fazer download para o PC\n",
        "from google.colab import files\n",
        "files.download(\"dataset_limpo.csv\")\n"
      ],
      "metadata": {
        "id": "SBlO7XqjQC8l"
      },
      "execution_count": null,
      "outputs": []
    }
  ]
}