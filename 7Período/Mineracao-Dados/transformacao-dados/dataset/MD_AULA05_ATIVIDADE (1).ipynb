{
  "cells": [
    {
      "cell_type": "markdown",
      "id": "dd50d1c4",
      "metadata": {
        "id": "dd50d1c4"
      },
      "source": [
        "<div align=\"center\">\n",
        "\n",
        "<h1></h1>  \n",
        "<h1>UNITINS</h1>  \n",
        "<h2>Mineração de Dados</h2>  \n",
        "\n",
        "---\n",
        "\n",
        "<h2> Exercícios: Transformação de Dados para Mineração</h2>  \n",
        "\n",
        "</div>\n",
        "\n",
        "Neste notebook, você irá praticar as **técnicas de transformação de dados** vistas em aula.  \n",
        "\n",
        "Para cada técnica aplicada, comente os códigos desenvolvidos e explique qual o objetivo de se aplicar cada uma das tarefas utilizadas.  \n",
        ""
      ]
    },
    {
      "cell_type": "markdown",
      "id": "d64ca589",
      "metadata": {
        "id": "d64ca589"
      },
      "source": [
        "\n",
        "## Dataset de exemplo\n",
        "\n",
        "Vamos criar um dataset para utilizá-lo para realizar as tarefas de transformação\n"
      ]
    },
    {
      "cell_type": "code",
      "source": [
        "import pandas as pd\n",
        "import numpy as np\n",
        "\n",
        "# Definir tamanho do dataset\n",
        "n = 500\n",
        "\n",
        "# Gerar valores aleatórios\n",
        "idades = np.random.randint(15, 70, size=n)  # idades entre 15 e 70\n",
        "salarios = np.random.randint(1200, 20000, size=n)  # salários entre 1200 e 20000\n",
        "\n",
        "# Escolher cidades de forma aleatória\n",
        "cidades = np.random.choice(\n",
        "    [\"São Paulo\", \"Rio de Janeiro\", \"Fortaleza\", \"Recife\", \"Salvador\", \"Belo Horizonte\"],\n",
        "    size=n\n",
        ")\n",
        "\n",
        "# Gerar datas aleatórias entre 2020 e 2023\n",
        "datas = pd.to_datetime(\n",
        "    np.random.randint(\n",
        "        pd.Timestamp(\"2020-01-01\").value,\n",
        "        pd.Timestamp(\"2023-12-31\").value,\n",
        "        size=n\n",
        "    )\n",
        ").normalize()\n",
        "\n",
        "# Criar DataFrame\n",
        "df = pd.DataFrame({\n",
        "    \"idade\": idades,\n",
        "    \"salario\": salarios,\n",
        "    \"cidade\": cidades,\n",
        "    \"data_cadastro\": datas\n",
        "})\n",
        "\n",
        "df.head()\n"
      ],
      "metadata": {
        "id": "AIj0NEb_fCP4"
      },
      "id": "AIj0NEb_fCP4",
      "execution_count": null,
      "outputs": []
    },
    {
      "cell_type": "markdown",
      "id": "74c0d4d6",
      "metadata": {
        "id": "74c0d4d6"
      },
      "source": [
        "\n",
        "## Exercício 1: Normalização\n",
        "\n",
        "Aplique a **normalização (Min-Max Scaling)** no atributo `salario`, trazendo os valores para a faixa **[0,1]**.\n",
        "\n",
        "Dica: use `MinMaxScaler` do `sklearn.preprocessing`.\n"
      ]
    },
    {
      "cell_type": "code",
      "execution_count": null,
      "id": "7b9b7fa1",
      "metadata": {
        "id": "7b9b7fa1"
      },
      "outputs": [],
      "source": [
        "\n",
        "# Seu código aqui\n"
      ]
    },
    {
      "cell_type": "markdown",
      "id": "cfd23b40",
      "metadata": {
        "id": "cfd23b40"
      },
      "source": [
        "\n",
        "## Exercício 2: Padronização\n",
        "\n",
        "Padronize o atributo `salario` usando **Z-score** (média = 0, desvio padrão = 1).\n",
        "\n",
        "Dica: use `StandardScaler`.\n"
      ]
    },
    {
      "cell_type": "code",
      "execution_count": null,
      "id": "88d29af4",
      "metadata": {
        "id": "88d29af4"
      },
      "outputs": [],
      "source": [
        "\n",
        "# Seu código aqui\n"
      ]
    },
    {
      "cell_type": "markdown",
      "id": "e08c4c12",
      "metadata": {
        "id": "e08c4c12"
      },
      "source": [
        "\n",
        "## Exercício 3: Transformação Logarítmica\n",
        "\n",
        "Aplique a **transformação logarítmica** ao atributo `salario` para reduzir a influência de valores muito altos.\n",
        "\n",
        "Use `np.log1p()` para evitar problemas com zero.\n"
      ]
    },
    {
      "cell_type": "code",
      "execution_count": null,
      "id": "ecae0cda",
      "metadata": {
        "id": "ecae0cda"
      },
      "outputs": [],
      "source": [
        "\n",
        "# Seu código aqui\n"
      ]
    },
    {
      "cell_type": "markdown",
      "id": "649a1950",
      "metadata": {
        "id": "649a1950"
      },
      "source": [
        "\n",
        "## Exercício 4: Binning (Discretização)\n",
        "\n",
        "Crie uma nova coluna `faixa_etaria` que categorize a idade em:\n",
        "\n",
        "- **jovem** (0–18)  \n",
        "- **adulto** (19–30)  \n",
        "- **meia-idade** (31–50)  \n",
        "- **idoso** (51+)  \n",
        "\n",
        "Use `pd.cut()`.\n"
      ]
    },
    {
      "cell_type": "code",
      "execution_count": null,
      "id": "34029811",
      "metadata": {
        "id": "34029811"
      },
      "outputs": [],
      "source": [
        "\n",
        "# Seu código aqui\n"
      ]
    },
    {
      "cell_type": "markdown",
      "id": "6bf2a7ad",
      "metadata": {
        "id": "6bf2a7ad"
      },
      "source": [
        "\n",
        "## Exercício 5: One-Hot Encoding\n",
        "\n",
        "Transforme o atributo `cidade` em colunas binárias (0/1).\n",
        "\n",
        "Use `pd.get_dummies()`.\n"
      ]
    },
    {
      "cell_type": "code",
      "execution_count": null,
      "id": "59b5dd68",
      "metadata": {
        "id": "59b5dd68"
      },
      "outputs": [],
      "source": [
        "\n",
        "# Seu código aqui\n"
      ]
    },
    {
      "cell_type": "markdown",
      "id": "61e42117",
      "metadata": {
        "id": "61e42117"
      },
      "source": [
        "\n",
        "## Exercício 6: Label Encoding\n",
        "\n",
        "Converta o atributo `cidade` em números inteiros.\n",
        "\n",
        "Use `LabelEncoder`.\n"
      ]
    },
    {
      "cell_type": "code",
      "execution_count": null,
      "id": "55871100",
      "metadata": {
        "id": "55871100"
      },
      "outputs": [],
      "source": [
        "\n",
        "# Seu código aqui\n"
      ]
    },
    {
      "cell_type": "markdown",
      "id": "f0fdd170",
      "metadata": {
        "id": "f0fdd170"
      },
      "source": [
        "\n",
        "## Exercício 7: Extração de atributos\n",
        "\n",
        "A partir do atributo `data_cadastro`, crie três novas colunas: `ano`, `mes` e `dia`.\n",
        "\n",
        "Use `.dt.year`, `.dt.month` e `.dt.day`.\n"
      ]
    },
    {
      "cell_type": "code",
      "execution_count": null,
      "id": "f149d9da",
      "metadata": {
        "id": "f149d9da"
      },
      "outputs": [],
      "source": [
        "\n",
        "# Seu código aqui\n"
      ]
    },
    {
      "cell_type": "markdown",
      "id": "6f952317",
      "metadata": {
        "id": "6f952317"
      },
      "source": [
        "Neste notebook você praticou:\n",
        "- Normalização  \n",
        "- Padronização  \n",
        "- Transformação Logarítmica  \n",
        "- Binning  \n",
        "- One-Hot Encoding  \n",
        "- Label Encoding  \n",
        "- Extração de atributos  \n",
        "\n",
        "Essas técnicas são fundamentais na **transformação dados** antes de aplicar algoritmos de mineração e aprendizado de máquina.\n"
      ]
    }
  ],
  "metadata": {
    "colab": {
      "provenance": []
    },
    "language_info": {
      "name": "python"
    },
    "kernelspec": {
      "name": "python3",
      "display_name": "Python 3"
    }
  },
  "nbformat": 4,
  "nbformat_minor": 5
}